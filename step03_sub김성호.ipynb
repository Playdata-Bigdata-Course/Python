{
 "cells": [
  {
   "cell_type": "markdown",
   "metadata": {},
   "source": [
    "### **미션1. 임금 계산해 보기**\n",
    "\n",
    ">사용자에게 근무 시간과 시간당 임금을 물어보고, 주당 근무 시간이 40시간을 넘으면 1.5배의 임금을 지급해야 한다고 가정할 경우<br> \n",
    "이번주에 받는 총임금을 계산하는 프로그램을 만들어 보자"
   ]
  },
  {
   "cell_type": "code",
   "execution_count": 85,
   "metadata": {},
   "outputs": [
    {
     "name": "stdout",
     "output_type": "stream",
     "text": [
      "주당 근무 시간60\n",
      "시간 당 임금5000\n",
      "450000 원 벌었네요\n"
     ]
    }
   ],
   "source": [
    "def  weekly_wage(hour, wage):\n",
    "    if hour > 40:\n",
    "        sal = hour * wage * 1.5\n",
    "    else: \n",
    "        sal = hour * wage\n",
    "    return sal\n",
    "hour = float(input('주당 근무 시간')) \n",
    "wage = float(input('시간 당 임금')) \n",
    "ans = weekly_wage(hour, wage)\n",
    "print (int(ans),'원 벌었네요')       \n"
   ]
  },
  {
   "cell_type": "markdown",
   "metadata": {},
   "source": [
    " ### **미션2. 자동 판매기를 시뮬레이션하는 프로그램 만들기**\n",
    "> 1. 문제<br>\n",
    "  사용자는 1000원짜리 지폐와 500원짜리 동전, 100원짜리 동전을 사용할 수 있고, 물건값을 입력하고 1000원권, 500원 짜리 동전, 100원짜리 동전을 사용할 수 있다.<br>\n",
    "  물건값을 입력하고 1000원권, 500원짜리 동전, 100원짜리 동전의 개수를 입력하면 거스름돈을 계산하여서 동전으로 변환한다<br>\n",
    "\n",
    " >2. 출력 결과 예시<br>\n",
    "    물건값을 입력하시오: 750 <br>\n",
    "    1000원 지폐개수: 1<br>\n",
    "    500원 동전개수: 0<br>\n",
    "    100원 동전개수: 0<br>\n",
    "    출력 500원= 0 100원= 2 10원= 5 1원= 0<br>"
   ]
  },
  {
   "cell_type": "code",
   "execution_count": 93,
   "metadata": {},
   "outputs": [
    {
     "name": "stdout",
     "output_type": "stream",
     "text": [
      "물건값을 입력하시오: 1234\n",
      "1000원 지폐개수 : 4\n",
      "500원 동전개수 : 0\n",
      "100원 동전개수 : 0\n",
      "500원: 5 100원 : 2 10원 : 6 1원 : 6\n"
     ]
    }
   ],
   "source": [
    "price = int(input('물건값을 입력하시오: '))\n",
    "thou = int(input('1000원 지폐개수 : '))\n",
    "fihu = int(input('500원 동전개수 : '))\n",
    "hu = int(input('100원 동전개수 : '))\n",
    "change =  thou*1000 + fihu*500 + hu*100 - price\n",
    "fihu = change//500\n",
    "hu = (change-fihu*500)//100\n",
    "ten = (change-fihu*500-hu*100)//10\n",
    "one = (change-fihu*500-hu*100-ten*10)\n",
    "print('500원: '+str(fihu)+' 100원 : '+str(hu)+' 10원 : '+str(ten)+' 1원 : '+str(one))"
   ]
  },
  {
   "cell_type": "markdown",
   "metadata": {},
   "source": [
    "### **미션3. 함축된 표현식으로 변경해 보기**\n",
    "\n",
    "> 1. 소스 분석하기<br>\n",
    "> 2. 반복문을 함축 표현으로 변경해 보기\n",
    "> 3. 알고리즘 문제로 많이 나오는 로직"
   ]
  },
  {
   "cell_type": "code",
   "execution_count": 19,
   "metadata": {},
   "outputs": [],
   "source": [
    "data = '''내 속엔 내가 너무도 많아 당신의 쉴 곳 없네\n",
    "내 속엔 헛된바램들로 당신의 편할 곳 없네\n",
    "내 속엔 내가 어쩔 수 없는 어둠 당신의 쉴 자리를 뺏고\n",
    "내 속엔 내가 이길 수 없는 슬픔 무성한 가시나무숲같네\n",
    "\n",
    "바람만 불면 그 메마른가지 서로 부대끼며 울어대고\n",
    "쉴곳을 찾아 지쳐 날아온 어린새들도 가시에 찔려 날아가고\n",
    "바람만 불면 외롭고 또 괴로워 슬픈 노래를 부르던 날이 많았는데\n",
    "\n",
    "내 속엔 내가 너무도 많아서 당신의 쉴 곳 없네\n",
    "\n",
    "\n",
    "바람만 불면 그 메마른가지 서로 부대끼며 울어대고\n",
    "쉴곳을 찾아 지쳐 날아온 어린새들도 가시에 찔려 날아가고\n",
    "바람만 불면 외롭고 또 괴로워 슬픈 노래를 부르던 날이 많았는데\n",
    "\n",
    "내 속엔 내가 너무도 많아서 당신의 쉴 곳 없네'''"
   ]
  },
  {
   "cell_type": "code",
   "execution_count": null,
   "metadata": {},
   "outputs": [],
   "source": [
    "letterDict = {}\n",
    "for letter in data:\n",
    "    if letter != ' ' and letter != '\\n':\n",
    "        letterDict[letter] = letterDict[letter] + 1 if letter in letterDict else 1\n",
    "print((letterDict))"
   ]
  },
  {
   "cell_type": "markdown",
   "metadata": {},
   "source": [
    "### **미션4. 숫자로 Pyramid 만들기**\n",
    "> 1. 중첩문과 range() 함수 활용\n",
    "> 2. range(): 정해진 정수 범위내의 값을 반환하는 함수"
   ]
  },
  {
   "cell_type": "code",
   "execution_count": 80,
   "metadata": {
    "scrolled": true
   },
   "outputs": [
    {
     "name": "stdout",
     "output_type": "stream",
     "text": [
      "숫자로 피라미드만들기 =5\n",
      "    1 \n",
      "   1 2 \n",
      "  1 2 3 \n",
      " 1 2 3 4 \n",
      "1 2 3 4 5 \n"
     ]
    }
   ],
   "source": [
    "n = int(input('숫자로 피라미드만들기 ='))\n",
    "for i in range(1, n+1):\n",
    "    tmp = ''\n",
    "    for j in range(1, i+1):\n",
    "       tmp += str(j)+' '\n",
    "    print(' '*(n-i) + tmp)\n",
    "    "
   ]
  },
  {
   "cell_type": "markdown",
   "metadata": {},
   "source": [
    "### **미션5. 팩토리얼 계산하기**\n",
    ">반복문을 활용하여 팩토리얼 계산해 보기<br>\n",
    "for문과 while문을 활용하여 각각 만들어 보기<br>\n",
    "팩토리얼 n!은 1~n까지의 정수를 모두 곱한 것을 의미한다<br>\n",
    "n! = 1*2*3*...(n-1)*n\n",
    "\n",
    ">힌트 : range() 함수를 이용"
   ]
  },
  {
   "cell_type": "code",
   "execution_count": null,
   "metadata": {},
   "outputs": [],
   "source": [
    "n = int(input('n : '))\n",
    "r = 1\n",
    "for i in range(1, n+1):\n",
    "    r*=i\n",
    "print('using for : '+str(r))\n",
    "r = 1\n",
    "while n>0:\n",
    "    r*=n\n",
    "    n-=1\n",
    "print('using while : '+str(r))"
   ]
  },
  {
   "cell_type": "markdown",
   "metadata": {},
   "source": [
    "### **미션6. 계좌번호 처리하기**\n",
    "\n",
    "> 인터넷 뱅킹을 사용하다보면 계좌번호를 입력할 때, \"312-02-1234567\"과 사용자로부터 \"-\"가 포함된 계좌 번호를 받아서 \"-\"을 삭제한 문자열을 만들어보자. \n"
   ]
  },
  {
   "cell_type": "code",
   "execution_count": 3,
   "metadata": {},
   "outputs": [
    {
     "name": "stdout",
     "output_type": "stream",
     "text": [
      "계좌번호를 입력하시오 :1-1-1-1-1-1\n",
      "변경된 계좌번호는 : 111111\n"
     ]
    }
   ],
   "source": [
    "account = input('계좌번호를 입력하시오 :' )\n",
    "a = ''\n",
    "for i in account:\n",
    "    if i != '-':\n",
    "        a = a + i\n",
    "print('변경된 계좌번호는 : ' + a)"
   ]
  },
  {
   "cell_type": "markdown",
   "metadata": {},
   "source": [
    "### **미션7. 알파벳, 숫자, 스페이스의 처리**\n",
    "\n",
    "> 문자열을 조사하여서 알파벳 문자의 개수, 숫자의 개수, 스페이스의 개수를 출력하는 프로그램을 작성하라"
   ]
  },
  {
   "cell_type": "code",
   "execution_count": 14,
   "metadata": {},
   "outputs": [
    {
     "name": "stdout",
     "output_type": "stream",
     "text": [
      "your code : a1 bb22  cc333   \n",
      "알파벳 :  5 자\n",
      "숫자 :  6 자\n",
      "공백 :  6 자\n"
     ]
    }
   ],
   "source": [
    "code = input('your code : ')\n",
    "alp = 0\n",
    "num = 0\n",
    "space = 0\n",
    "for string in code:\n",
    "    if string.isalpha():\n",
    "        alp = alp + 1\n",
    "    elif string.isdigit():\n",
    "        num = num + 1\n",
    "    elif string.isspace():\n",
    "        space = space + 1\n",
    "print('알파벳 : ', alp ,'자')\n",
    "print('숫자 : ', num ,'자')\n",
    "print('공백 : ', space ,'자') "
   ]
  }
 ],
 "metadata": {
  "kernelspec": {
   "display_name": "Python 3",
   "language": "python",
   "name": "python3"
  },
  "language_info": {
   "codemirror_mode": {
    "name": "ipython",
    "version": 3
   },
   "file_extension": ".py",
   "mimetype": "text/x-python",
   "name": "python",
   "nbconvert_exporter": "python",
   "pygments_lexer": "ipython3",
   "version": "3.8.5"
  }
 },
 "nbformat": 4,
 "nbformat_minor": 4
}
