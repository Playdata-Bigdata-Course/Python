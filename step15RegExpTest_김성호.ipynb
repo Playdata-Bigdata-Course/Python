{
 "cells": [
  {
   "cell_type": "markdown",
   "metadata": {},
   "source": [
    "[[step14. 정규표현식 학습 page로 이동](step14RegExp.ipynb) ] | [[step16.Decorator 학습 page로 이동](step16_docstring.ipynb\n",
    ") ]"
   ]
  },
  {
   "cell_type": "markdown",
   "metadata": {},
   "source": [
    "### 정규 표현식 익숙해 지기"
   ]
  },
  {
   "cell_type": "markdown",
   "metadata": {},
   "source": [
    "### [문자 클래스]\n",
    "\n",
    "1. [abc] - a, b, c중 한 개의 문자와 매치\n",
    "  - a : 매치여부 OK\n",
    "  - apple : ok\n",
    "  - double : no\n",
    "\n",
    "2. \\d   : 숫자와 매치, [0-9]와 동일\n",
    "\n",
    "3. \\D : 숫자가 아닌 것과 매치 [^0-9]와 동일\n",
    "\n",
    "4. \\s : whitespace 문자와 매치\n",
    "\n",
    "5. \\S : whitespace 문자가 아닌것과 매치, \n",
    "\n",
    "6. \\w : 문자 + 숫자와 매치, [a-zA-Z0-9]와 동일\n",
    "\n",
    "7. \\W : 문자+숫자가 아닌 문자와 매치. [^a-zA-Z0-9]와 동일\n",
    "  \n",
    "\n",
    "\n",
    "8. a.b : a와 b 사이에 줄바꿈 문자를 제외한 모든 문자 허용\n",
    "\n",
    "9. a[.]b : a와 b 사이에 dot 문자만 허용\n",
    "\n",
    "10. ca*t  : a 문자가 0번 이상 반복 허용\n",
    "\n",
    "11. ca+t :  a 문자가 1번 이상 반복 허용\n",
    "\n",
    "12. ca?t : a 문자가 없거나, 1번만 허용\n",
    "\n",
    "13. ca{3}t : a 문자가 3번 반복되면 매치\n",
    "\n",
    "14. ca{2, 3}t : a 문자가 2~3번 반복되면 매치\n"
   ]
  },
  {
   "cell_type": "code",
   "execution_count": 2,
   "metadata": {},
   "outputs": [],
   "source": [
    "import re"
   ]
  },
  {
   "cell_type": "markdown",
   "metadata": {},
   "source": [
    "1. 문제 : encore 단어만으로 구성될수 있도록 정규식을 만들어 보기\n",
    "    "
   ]
  },
  {
   "cell_type": "code",
   "execution_count": 25,
   "metadata": {},
   "outputs": [
    {
     "data": {
      "text/plain": [
       "<re.Match object; span=(0, 6), match='encore'>"
      ]
     },
     "execution_count": 25,
     "metadata": {},
     "output_type": "execute_result"
    }
   ],
   "source": [
    "re.match('encore', 'encore')"
   ]
  },
  {
   "cell_type": "markdown",
   "metadata": {},
   "source": [
    "2. 문제 - 설명에 부합되는 정규 표현식을 만들어라<br><br>\n",
    "data로 시작하며 data 다음에는 whitespace가 와야 하며, 그 뒤에는 문자와 숫자등이 조합될수 있는 단어가 와야 한다\n"
   ]
  },
  {
   "cell_type": "code",
   "execution_count": 48,
   "metadata": {},
   "outputs": [
    {
     "name": "stdout",
     "output_type": "stream",
     "text": [
      "<re.Match object; span=(0, 9), match='data dfff'>\n"
     ]
    }
   ],
   "source": [
    "answer = re.match(\"^data\\s\\w+\", 'data dfff')\n",
    "print(answer)"
   ]
  },
  {
   "cell_type": "markdown",
   "metadata": {},
   "source": [
    "3-1. 문제 - 000-0000-0000과 같은 전화번호 형태의 정규 표현식 만들기\n"
   ]
  },
  {
   "cell_type": "code",
   "execution_count": 55,
   "metadata": {},
   "outputs": [
    {
     "name": "stdout",
     "output_type": "stream",
     "text": [
      "<re.Match object; span=(0, 13), match='010-1111-2222'>\n"
     ]
    }
   ],
   "source": [
    "answer =re.match('\\d{3}-\\d{4}-\\d{4}', '010-1111-2222')\n",
    "print(answer)"
   ]
  },
  {
   "cell_type": "markdown",
   "metadata": {},
   "source": [
    "3-2. 추가 문제 - 이름 000-0000-0000과 같은 전화번호 형태의 정규 표현식 만들기\n"
   ]
  },
  {
   "cell_type": "code",
   "execution_count": 72,
   "metadata": {},
   "outputs": [
    {
     "name": "stdout",
     "output_type": "stream",
     "text": [
      "<re.Match object; span=(0, 17), match='asd 010-1111-2222'>\n"
     ]
    }
   ],
   "source": [
    "answer = re.match('\\w+\\s\\d{3}-\\d{4}-\\d{4}', 'asd 010-1111-2222')\n",
    "print(answer)"
   ]
  },
  {
   "cell_type": "markdown",
   "metadata": {},
   "source": [
    "4. 문제 : 제시된 실행 결과를 보고 pattern을 완성해 보기<br>\n",
    "t로 시작하는 단어 착출 가능한 pattern<br>\n",
    "\\* 결과 : 검색된 데이터 :  two<br>\n",
    "\\* 참고 : group() : 매치된 문자열을 리턴<br>"
   ]
  },
  {
   "cell_type": "code",
   "execution_count": 146,
   "metadata": {},
   "outputs": [
    {
     "name": "stdout",
     "output_type": "stream",
     "text": [
      "two\n"
     ]
    }
   ],
   "source": [
    "\n",
    "m = (\"\"\"python one\n",
    "life is too short\n",
    "python two \n",
    "you need python\n",
    "python three\"\"\")\n",
    "\n",
    "p = re.findall('t\\w+',m)\n",
    "print(p[3])\n"
   ]
  },
  {
   "cell_type": "markdown",
   "metadata": {},
   "source": [
    "5. 문자열에서 \"python one\"만을 착출 할수 있는 pattern 만들기"
   ]
  },
  {
   "cell_type": "code",
   "execution_count": 148,
   "metadata": {},
   "outputs": [
    {
     "name": "stdout",
     "output_type": "stream",
     "text": [
      "['python one']\n"
     ]
    }
   ],
   "source": [
    "p = re.compile(\"python one\")\n",
    "m = p.findall(\"\"\"python one\n",
    "life is too short\n",
    "python two \n",
    "you need python\n",
    "python three\"\"\")\n",
    "\n",
    "print(m)"
   ]
  },
  {
   "cell_type": "code",
   "execution_count": 149,
   "metadata": {},
   "outputs": [
    {
     "name": "stdout",
     "output_type": "stream",
     "text": [
      "<re.Match object; span=(0, 10), match='python one'>\n"
     ]
    }
   ],
   "source": [
    "p = re.compile('python one')\n",
    "data = \"\"\"python one life is too short python two\n",
    "you need python\n",
    "python three\"\"\"\n",
    "\n",
    "print(p.search(data))"
   ]
  },
  {
   "cell_type": "code",
   "execution_count": 150,
   "metadata": {},
   "outputs": [
    {
     "name": "stdout",
     "output_type": "stream",
     "text": [
      "['python one']\n"
     ]
    }
   ],
   "source": [
    "p = re.compile('python one')\n",
    "data = \"\"\"python one \n",
    "life is too short \n",
    "python two \n",
    "you need python \n",
    "python three\"\"\"\n",
    "\n",
    "print(p.findall(data))"
   ]
  },
  {
   "cell_type": "code",
   "execution_count": 151,
   "metadata": {},
   "outputs": [
    {
     "name": "stdout",
     "output_type": "stream",
     "text": [
      "['python one', 'python two', 'python three']\n"
     ]
    }
   ],
   "source": [
    "p = re.compile(\"python \\S+\")\n",
    "data = \"\"\"python one\n",
    "life is too short\n",
    "python two\n",
    "you need python\n",
    "python three\"\"\"\n",
    "\n",
    "print(p.findall(data))"
   ]
  },
  {
   "cell_type": "markdown",
   "metadata": {},
   "source": [
    "6. 문제 : 입력되는 데이터값을 주민등록 구조에 맞게 검증 및 뒷자리는 * 문자로 변경해 보기\n",
    "\\* 검증되는 데이터 구조 : 000000-0000000 여야 함<br>\n",
    "\\*힌트<br>\n",
    "\n",
    "> 1. \\\\d{숫자} : 숫자 및 숫자 자리수 표현\n",
    "- sub(pattern, \"변경하게될데이터\", 원본데이터)\n",
    "        "
   ]
  },
  {
   "cell_type": "code",
   "execution_count": 3,
   "metadata": {},
   "outputs": [
    {
     "name": "stdout",
     "output_type": "stream",
     "text": [
      "890726-1******\n"
     ]
    }
   ],
   "source": [
    "data = \"890726-1324567\"\n",
    "\n",
    "print(re.sub('(\\d{6}-\\d{1})(\\d{6})', '\\\\1******', data))\n",
    "# ?\\\\2의 첫번째만 사용가능?"
   ]
  },
  {
   "cell_type": "markdown",
   "metadata": {},
   "source": [
    "7. 문제 - 그룹핑 패턴을 활용하여 2222만 검색되게 해 주세요"
   ]
  },
  {
   "cell_type": "code",
   "execution_count": 157,
   "metadata": {},
   "outputs": [
    {
     "name": "stdout",
     "output_type": "stream",
     "text": [
      "['2222', '2222', '2222', '2222', '2222', '2222']\n"
     ]
    }
   ],
   "source": [
    "p = re.compile(\"2222\")\n",
    "data =\"222222222222222222222222222\"\n",
    "\n",
    "print(p.findall(data))"
   ]
  },
  {
   "cell_type": "markdown",
   "metadata": {},
   "source": [
    "8. 문제 - \"파일명.확장자\" 형태의 패턴 구성하기 문제들"
   ]
  },
  {
   "cell_type": "code",
   "execution_count": 166,
   "metadata": {},
   "outputs": [
    {
     "name": "stdout",
     "output_type": "stream",
     "text": [
      "<re.Match object; span=(0, 8), match='test.zip'>\n"
     ]
    }
   ],
   "source": [
    "# \"파일명.확장자\" 형태의 패턴 구성\n",
    "pattern = re.compile('\\w+\\S\\.\\D\\S\\w+')\n",
    "\n",
    "data = pattern.match(\"test.zip\")\n",
    "print(data) "
   ]
  },
  {
   "cell_type": "code",
   "execution_count": 160,
   "metadata": {},
   "outputs": [
    {
     "name": "stdout",
     "output_type": "stream",
     "text": [
      "<re.Match object; span=(0, 8), match='test.txt'>\n"
     ]
    }
   ],
   "source": [
    "data = pattern.match(\"test.txt\")\n",
    "print(data) "
   ]
  },
  {
   "cell_type": "code",
   "execution_count": 161,
   "metadata": {},
   "outputs": [
    {
     "name": "stdout",
     "output_type": "stream",
     "text": [
      "None\n"
     ]
    }
   ],
   "source": [
    "data = p.match(\"testzip\")\n",
    "print(data) # None"
   ]
  },
  {
   "cell_type": "code",
   "execution_count": 176,
   "metadata": {},
   "outputs": [
    {
     "name": "stdout",
     "output_type": "stream",
     "text": [
      "<re.Match object; span=(0, 8), match='test.zip'>\n"
     ]
    }
   ],
   "source": [
    "# # \"파일명.확장자\" 형태의 패턴 구성\n",
    "# 단 bat는 제외(힌트 : b로 시작하는 것 제외하기)\n",
    "pattern = re.compile('\\w+\\S\\.\\D\\S[^bat]')\n",
    "\n",
    "data = pattern.match(\"test.zip\")\n",
    "print(data) \n"
   ]
  },
  {
   "cell_type": "code",
   "execution_count": 177,
   "metadata": {},
   "outputs": [
    {
     "name": "stdout",
     "output_type": "stream",
     "text": [
      "None\n"
     ]
    }
   ],
   "source": [
    "data = pattern.match(\"test.bat\")\n",
    "print(data) "
   ]
  },
  {
   "cell_type": "markdown",
   "metadata": {},
   "source": [
    "9. 문제 - 별도의 함수로 개발 하기 <br>\n",
    "문자열에 특정 문자 집합 (이 경우 a-z, A-Z 및 0-9)으로만 구성되어 있는지 확인하는 함수 개발 하기"
   ]
  },
  {
   "cell_type": "code",
   "execution_count": 179,
   "metadata": {},
   "outputs": [
    {
     "name": "stdout",
     "output_type": "stream",
     "text": [
      "True\n",
      "False\n"
     ]
    }
   ],
   "source": [
    "def dataCheck(data):\n",
    "    pattern = re.compile('\\w')\n",
    "    data = pattern.search(data)\n",
    "    return bool(data)\n",
    "    \n",
    "print (dataCheck(\"test\"))  # True\n",
    "\n",
    "print (dataCheck(\"*@#%$^\")) # False"
   ]
  },
  {
   "cell_type": "code",
   "execution_count": 180,
   "metadata": {},
   "outputs": [
    {
     "name": "stdout",
     "output_type": "stream",
     "text": [
      "<class 'bool'>\n"
     ]
    }
   ],
   "source": [
    "print(type(bool()))"
   ]
  },
  {
   "cell_type": "code",
   "execution_count": 181,
   "metadata": {},
   "outputs": [
    {
     "name": "stdout",
     "output_type": "stream",
     "text": [
      "False\n"
     ]
    }
   ],
   "source": [
    "print(bool(None))"
   ]
  },
  {
   "cell_type": "code",
   "execution_count": 183,
   "metadata": {},
   "outputs": [
    {
     "name": "stdout",
     "output_type": "stream",
     "text": [
      "True\n"
     ]
    }
   ],
   "source": [
    "print(bool(\"None\"))"
   ]
  },
  {
   "cell_type": "code",
   "execution_count": 182,
   "metadata": {},
   "outputs": [
    {
     "name": "stdout",
     "output_type": "stream",
     "text": [
      "True\n"
     ]
    }
   ],
   "source": [
    "print(bool(\"data\"))"
   ]
  },
  {
   "cell_type": "markdown",
   "metadata": {},
   "source": [
    "10. 문제 : 실행 결과가 True True True True True False False False 처럼 출력되게 정규 표현식을 완성하세요"
   ]
  },
  {
   "cell_type": "code",
   "execution_count": 184,
   "metadata": {},
   "outputs": [
    {
     "name": "stdout",
     "output_type": "stream",
     "text": [
      "True True True True True False False False "
     ]
    }
   ],
   "source": [
    "import re\n",
    "\n",
    "p = re.compile( '\\S+@\\S+\\.\\S+' )\n",
    "\n",
    "emails = ['python@mail.example.com', 'python+kr@example.com',              # 올바른 형식\n",
    "          'python-dojang@example.co.kr', 'python_10@example.info',         # 올바른 형식\n",
    "          'python.dojang@e-xample.com',                                    # 올바른 형식\n",
    "          '@example.com', 'python@example', 'python@example-com']          # 잘못된 형식\n",
    "\n",
    "for email in emails:\n",
    "    print(p.match(email) != None, end=' ')\n"
   ]
  },
  {
   "cell_type": "code",
   "execution_count": null,
   "metadata": {},
   "outputs": [],
   "source": []
  }
 ],
 "metadata": {
  "kernelspec": {
   "display_name": "Python 3",
   "language": "python",
   "name": "python3"
  },
  "language_info": {
   "codemirror_mode": {
    "name": "ipython",
    "version": 3
   },
   "file_extension": ".py",
   "mimetype": "text/x-python",
   "name": "python",
   "nbconvert_exporter": "python",
   "pygments_lexer": "ipython3",
   "version": "3.8.5"
  }
 },
 "nbformat": 4,
 "nbformat_minor": 2
}
