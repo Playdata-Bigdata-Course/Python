{
 "cells": [
  {
   "cell_type": "markdown",
   "metadata": {},
   "source": [
    "[[step12. Module 학습 page로 이동](step12Module.ipynb) ] | [[step14. 정규표현식 학습 page로 이동](step14RegExp.ipynb) ]"
   ]
  },
  {
   "cell_type": "markdown",
   "metadata": {},
   "source": [
    "### 1. 논리적인 파일 구조(데이터 입출력, IO)\n",
    "* 데이터 입출력 기본 : 오픈 -> 사용 -> 자원반환\n",
    "\n",
    ">1. 파일 안에는 바이트들이 순차적으로 저장되어 있고 맨 끝에는 EOF(end-of-file) 마커가 있음\n",
    "\n",
    ">2. 모든 파일은 입출력 동작이 발생하는 위치를 나타내는 위치 표시자(position indicator)를 가지고 있음\n",
    "\n",
    ">3. 텍스트 파일 읽고 쓰기<br>\n",
    "   - open(\"file 이름\", 파일열기모드, 인코딩)<br>\n",
    "   - 파일 열기 모드<br>\n",
    "       1. r : 읽기 모드(파일의 처음부터 read)<br>\n",
    "       2. w : 쓰기 모드(파일의 처음부터 쓰기, 파일이 없으면 생성, 존재하면 기존 내용은 지우고 새로 작성)<br>\n",
    "       3. a : 추가 모드(파일의 끝에 씀, 파일이 없으면 생성)<br>\n",
    "       4. r+ : 읽기 쓰기 모드(파일에 읽고 쓸수 있는 모드)\n",
    "    \n",
    ">4. test를 위한 데이터(파일들) 위치 : dataSet이라는 폴더에 저장되어 있음    "
   ]
  },
  {
   "cell_type": "markdown",
   "metadata": {},
   "source": [
    "output.txt 파일 생성 및 데이터 출력\n",
    "\n",
    "한글 데이터 고려 - utf-8\n",
    "\n",
    "- 파일 생성 -> 데이터 출력 "
   ]
  },
  {
   "cell_type": "code",
   "execution_count": 19,
   "metadata": {},
   "outputs": [],
   "source": [
    "f = open('output.txt', 'w', encoding='utf-8')\n",
    "\n",
    "f.write('file 데이터 출력')\n",
    "f.write('\\ntest')\n",
    "f.write('\\ndata')\n",
    "\n",
    "f.close()"
   ]
  },
  {
   "cell_type": "code",
   "execution_count": 2,
   "metadata": {},
   "outputs": [
    {
     "name": "stdout",
     "output_type": "stream",
     "text": [
      " C 드라이브의 볼륨에는 이름이 없습니다.\n",
      " 볼륨 일련 번호: E88F-8E28\n",
      "\n",
      " C:\\ITStudy\\08.python 디렉터리\n",
      "\n",
      "2021-02-25  오후 03:52    <DIR>          .\n",
      "2021-02-25  오후 03:52    <DIR>          ..\n",
      "2021-02-25  오후 02:53    <DIR>          .ipynb_checkpoints\n",
      "2021-02-25  오후 03:48    <DIR>          dataSet\n",
      "2021-02-23  오전 10:26    <DIR>          img\n",
      "2021-02-25  오후 03:52                 0 output.txt\n",
      "2021-02-23  오후 02:58             7,876 step01Calculation.ipynb\n",
      "2021-02-23  오후 08:57            17,690 step02ConditionLoop_mission.ipynb\n",
      "2021-02-24  오전 09:34            57,505 step03_1DataType.ipynb\n",
      "2021-02-23  오후 04:51           347,834 step03_2Slice.ipynb\n",
      "2021-02-24  오전 12:11             8,781 step03_sub김성호.ipynb\n",
      "2021-02-23  오후 06:24            12,148 step04StringType.ipynb\n",
      "2021-02-23  오후 07:01            11,922 step05ListTupleDictSet.ipynb\n",
      "2021-02-23  오후 07:34            11,485 step06VariableOperators.ipynb\n",
      "2021-02-23  오후 11:15            26,084 step07Function.ipynb\n",
      "2021-02-25  오전 10:53            17,648 step08Comprehension.ipynb\n",
      "2021-02-23  오전 02:25           322,736 step09_1Exception.ipynb\n",
      "2021-02-25  오후 12:02             5,844 step09_2goodCode.ipynb\n",
      "2021-02-25  오후 02:48            19,255 step10Class.ipynb\n",
      "2021-02-25  오후 03:07            34,174 step11OOP.ipynb\n",
      "2021-02-24  오후 06:34             3,203 step12Module.ipynb\n",
      "2021-02-24  오후 10:44             6,801 step13FileIO.ipynb\n",
      "2021-02-24  오후 10:44           267,419 step14RegExp.ipynb\n",
      "              18개 파일           1,178,405 바이트\n",
      "               5개 디렉터리  177,112,621,056 바이트 남음\n"
     ]
    }
   ],
   "source": [
    "!dir"
   ]
  },
  {
   "cell_type": "markdown",
   "metadata": {},
   "source": [
    "파일 읽기"
   ]
  },
  {
   "cell_type": "markdown",
   "metadata": {},
   "source": [
    "필수인 자원 반환을 자동으로 적용되게 코드 수정\n",
    "\n",
    "with로 시작되는 IO는 close() 자동 호출"
   ]
  },
  {
   "cell_type": "code",
   "execution_count": 12,
   "metadata": {},
   "outputs": [
    {
     "name": "stdout",
     "output_type": "stream",
     "text": [
      "\n"
     ]
    }
   ],
   "source": [
    "with open('output.txt', 'r', encoding='utf-8') as f:\n",
    "    print(f.read())"
   ]
  },
  {
   "cell_type": "markdown",
   "metadata": {},
   "source": [
    "줄단위로 파일에 쓰기\n",
    "\n",
    "- writelines()\n",
    "- join()"
   ]
  },
  {
   "cell_type": "code",
   "execution_count": 21,
   "metadata": {},
   "outputs": [],
   "source": [
    "lines = ['a\\n', 'b\\n']\n",
    "\n",
    "with open ('dataSet/output.txt', 'w', encoding='utf-8') as f:\n",
    "    f.writelines(lines)"
   ]
  },
  {
   "cell_type": "code",
   "execution_count": null,
   "metadata": {},
   "outputs": [],
   "source": [
    "lines = ['a\\n', 'b\\n']\n",
    "\n",
    "with open ('output.txt', 'w', encoding='utf-8') as f:\n",
    "    f.writelines(lines)"
   ]
  },
  {
   "cell_type": "markdown",
   "metadata": {},
   "source": [
    "파일 데이터 읽기\n",
    "\n",
    "- read() : file의 모든 내용 read\n",
    "- readline() : file의 한 line read\n",
    "- readlines() : file의 모든 내용을 list 형태로 read"
   ]
  },
  {
   "cell_type": "code",
   "execution_count": 22,
   "metadata": {},
   "outputs": [
    {
     "name": "stdout",
     "output_type": "stream",
     "text": [
      "a\n",
      "b\n",
      "\n"
     ]
    }
   ],
   "source": [
    "with open ('dataSet/output.txt', 'r', encoding='utf-8') as f:\n",
    "    print(f.read())"
   ]
  },
  {
   "cell_type": "code",
   "execution_count": 25,
   "metadata": {},
   "outputs": [
    {
     "name": "stdout",
     "output_type": "stream",
     "text": [
      "a\n",
      "\n"
     ]
    }
   ],
   "source": [
    "with open ('dataSet/output.txt', 'r', encoding='utf-8') as f:\n",
    "    print(f.readline())"
   ]
  },
  {
   "cell_type": "code",
   "execution_count": 26,
   "metadata": {},
   "outputs": [
    {
     "name": "stdout",
     "output_type": "stream",
     "text": [
      "['a\\n', 'b\\n']\n"
     ]
    }
   ],
   "source": [
    "with open ('dataSet/output.txt', 'r', encoding='utf-8') as f:\n",
    "    print(f.readlines())"
   ]
  },
  {
   "cell_type": "code",
   "execution_count": null,
   "metadata": {},
   "outputs": [],
   "source": []
  },
  {
   "cell_type": "markdown",
   "metadata": {},
   "source": [
    "**미션 - dataSet.txt 파일을 만들고 #으로 시작하는 문장만 출력해 보기**\n",
    "- startswith() : parameter로 시작되는 문자열 검증 메소드\n",
    "- 참고 : %%file dataSet.txt, 별도의 cell에 독립적으로 코딩시 실행 불가"
   ]
  },
  {
   "cell_type": "code",
   "execution_count": 28,
   "metadata": {},
   "outputs": [
    {
     "name": "stdout",
     "output_type": "stream",
     "text": [
      "True\n",
      "False\n"
     ]
    }
   ],
   "source": [
    "data = 'encore'\n",
    "print(data.startswith('e'))\n",
    "print(data.startswith('b'))"
   ]
  },
  {
   "cell_type": "code",
   "execution_count": 30,
   "metadata": {},
   "outputs": [
    {
     "name": "stdout",
     "output_type": "stream",
     "text": [
      "Writing dataSet.txt\n"
     ]
    }
   ],
   "source": [
    "%%file dataSet.txt   \n",
    "\n",
    "NumPy is the fundamental package for scientific computing with Python. It contains among other things:\n",
    "\n",
    "# comment1..\n",
    "\n",
    "  * a powerful N-dimensional array object\n",
    "  * sophisticated (broadcasting) functions\n",
    "  * tools for integrating C/C++ and Fortran code\n",
    "  * useful linear algebra, Fourier transform, and random number capabilities\n",
    "\n",
    "# comment2..\n",
    "\n",
    "Besides its obvious scientific uses, NumPy can also be used as an efficient multi-dimensional container of generic data. Arbitrary data-types can be defined. This allows NumPy to seamlessly and speedily integrate with a wide variety of databases.\n",
    "\n",
    "Numpy is licensed under the BSD license, enabling reuse with few restrictions."
   ]
  },
  {
   "cell_type": "markdown",
   "metadata": {},
   "source": [
    "답안 "
   ]
  },
  {
   "cell_type": "code",
   "execution_count": 33,
   "metadata": {},
   "outputs": [
    {
     "name": "stdout",
     "output_type": "stream",
     "text": [
      "# comment1..\n",
      "\n",
      "# comment2..\n",
      "\n"
     ]
    }
   ],
   "source": [
    "with open ('dataSet.txt', 'r', encoding='utf-8') as f:  \n",
    "    for data in f:\n",
    "        if data.startswith('#'):\n",
    "            print(data)"
   ]
  },
  {
   "cell_type": "markdown",
   "metadata": {},
   "source": [
    "**미션-줄 앞에 번호붙이기**\n",
    "\n",
    "- 텍스트 파일을 열어서 각 줄의 앞에 번호를 매겨서 다시 파일에 쓰는 프로그램을 작성해보자<br>\n",
    "- 참조 파일명 : dataSet/lineInsert.txt (dataSet 폴더에 있음)\n"
   ]
  },
  {
   "cell_type": "code",
   "execution_count": 45,
   "metadata": {},
   "outputs": [],
   "source": [
    "'''\n",
    "1. python\n",
    "2. 문법\n",
    "3. data\n",
    "\n",
    "'''\n",
    "#출력 파일명 - outputinsert.txt\n",
    "with open('dataSet/outputInsert.txt', 'w', encoding='utf-8') as f1:\n",
    "    with open('dataSet/lineInsert.txt', 'r', encoding='utf-8') as f2:\n",
    "        for index, line in enumerate(f2.readlines()):\n",
    "            f1.writelines(str(index + 1) + '. ' + line)"
   ]
  },
  {
   "cell_type": "code",
   "execution_count": 48,
   "metadata": {},
   "outputs": [],
   "source": [
    "infile = open('dataSet/lineInsert.txt', 'r', encoding='utf-8')\n",
    "outputfile = open('dataSet/lineInsert.txt', 'w', encoding='utf-8')\n",
    "\n",
    "i = 1\n",
    "for line in infile:\n",
    "    outputfile.write(str(i) + '. ' + line)\n",
    "    i = i+1\n",
    "infile.close()\n",
    "outputfile.close()"
   ]
  },
  {
   "cell_type": "markdown",
   "metadata": {},
   "source": [
    "**미션-매출 파일 처리**\n",
    "\n",
    "- 텍스트 파일에 상점의 매출이 저장되어 있다. read해서 평균 매출과 총 매출을 계산한 후에 'result.txt'라는 파일에 출력하는 프로그램 작성해 보기<br>\n",
    "- 참조 파일명 : dataSet/sales.txt \n",
    "- 출력 형식 \n",
    "\n",
    "> 총매출 = 1000<br>\n",
    "평균 매출 = 200.0"
   ]
  },
  {
   "cell_type": "code",
   "execution_count": 59,
   "metadata": {},
   "outputs": [],
   "source": [
    "with open(dataSet/sales.txt, 'r', encoding='utf-8') as s:\n",
    "    for "
   ]
  },
  {
   "cell_type": "code",
   "execution_count": 60,
   "metadata": {},
   "outputs": [],
   "source": []
  },
  {
   "cell_type": "code",
   "execution_count": null,
   "metadata": {},
   "outputs": [],
   "source": []
  },
  {
   "cell_type": "code",
   "execution_count": null,
   "metadata": {},
   "outputs": [],
   "source": []
  }
 ],
 "metadata": {
  "kernelspec": {
   "display_name": "Python 3",
   "language": "python",
   "name": "python3"
  },
  "language_info": {
   "codemirror_mode": {
    "name": "ipython",
    "version": 3
   },
   "file_extension": ".py",
   "mimetype": "text/x-python",
   "name": "python",
   "nbconvert_exporter": "python",
   "pygments_lexer": "ipython3",
   "version": "3.8.5"
  }
 },
 "nbformat": 4,
 "nbformat_minor": 2
}
