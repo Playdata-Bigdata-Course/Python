{
 "cells": [
  {
   "cell_type": "markdown",
   "metadata": {},
   "source": [
    "<!--NAVIGATION-->\n",
    "\n",
    "\n",
    "[[step06. 변수 학습 page로 이동](step06VariableOperators.ipynb) ] | [[step08.comprehension 학습 page로 이동](step08Comprehension.ipynb) ]"
   ]
  },
  {
   "cell_type": "markdown",
   "metadata": {},
   "source": [
    "### 함수 구현의 다양한 문법 \n",
    "\n",
    "- 인수(argument) - 호출 프로그램에 의하여 함수에 전달되는 값\n",
    "- 매개변수(parameter) - 인수값을 전달받는 변수\n",
    "\n",
    "--------------------------------------------------------\n",
    "\n",
    "- 디폴트 인수 : 함수의 매개 변수가 기본값 보유\n",
    "- 키워드 인수 : 인수들 앞에 키워드를 두어 인수 구분\n",
    "- 임의의 인수 목록 : 인자의 개수가 정해지지 않은 가변 인수를 전달\n",
    "- 람다 함수 : 이름이 없는 한줄짜리 함수"
   ]
  },
  {
   "cell_type": "code",
   "execution_count": 1,
   "metadata": {},
   "outputs": [
    {
     "name": "stdout",
     "output_type": "stream",
     "text": [
      "(1, 2)\n",
      "a 2\n"
     ]
    }
   ],
   "source": [
    "# 반환값이 여러개도 가능\n",
    "\n",
    "def f1():\n",
    "    return 1, 2\n",
    "\n",
    "print(f1())\n",
    "\n",
    "\n",
    "def f2():\n",
    "    return 'a', 2\n",
    "\n",
    "# 언패킹\n",
    "v1, v2 = f2()\n",
    "print(v1, v2)"
   ]
  },
  {
   "cell_type": "markdown",
   "metadata": {},
   "source": [
    "### 1. 디폴트(default) 인수"
   ]
  },
  {
   "cell_type": "code",
   "execution_count": 2,
   "metadata": {},
   "outputs": [
    {
     "name": "stdout",
     "output_type": "stream",
     "text": [
      "백종원 10\n"
     ]
    }
   ],
   "source": [
    "# 매개변수 기본 초기화값 활용하는 함수\n",
    "# 호출 : 함수명(값1), 함수명(값1, 값2)\n",
    "\n",
    "def fun1(name, age=10):\n",
    "    print(name, age)\n",
    "    \n",
    "fun1('백종원')"
   ]
  },
  {
   "cell_type": "code",
   "execution_count": 3,
   "metadata": {},
   "outputs": [
    {
     "name": "stdout",
     "output_type": "stream",
     "text": [
      "10 100\n"
     ]
    }
   ],
   "source": [
    "fun1(10, 100)"
   ]
  },
  {
   "cell_type": "code",
   "execution_count": 4,
   "metadata": {},
   "outputs": [
    {
     "ename": "TypeError",
     "evalue": "fun1() missing 1 required positional argument: 'name'",
     "output_type": "error",
     "traceback": [
      "\u001b[1;31m---------------------------------------------------------------------------\u001b[0m",
      "\u001b[1;31mTypeError\u001b[0m                                 Traceback (most recent call last)",
      "\u001b[1;32m<ipython-input-4-c007234036e7>\u001b[0m in \u001b[0;36m<module>\u001b[1;34m\u001b[0m\n\u001b[1;32m----> 1\u001b[1;33m \u001b[0mfun1\u001b[0m\u001b[1;33m(\u001b[0m\u001b[1;33m)\u001b[0m\u001b[1;33m\u001b[0m\u001b[1;33m\u001b[0m\u001b[0m\n\u001b[0m",
      "\u001b[1;31mTypeError\u001b[0m: fun1() missing 1 required positional argument: 'name'"
     ]
    }
   ],
   "source": [
    "fun1()"
   ]
  },
  {
   "cell_type": "markdown",
   "metadata": {},
   "source": [
    "### 2. 키워드 인수\n",
    "\n",
    "- **kwargs : keyword argument 줄임말\n",
    "- **kwargs : 키워드=특정값 형태로호출"
   ]
  },
  {
   "cell_type": "code",
   "execution_count": 9,
   "metadata": {},
   "outputs": [],
   "source": [
    "def fun2(x, y, z):\n",
    "    print(x, y, z)\n",
    "    return x + y + z    "
   ]
  },
  {
   "cell_type": "code",
   "execution_count": 10,
   "metadata": {},
   "outputs": [
    {
     "name": "stdout",
     "output_type": "stream",
     "text": [
      "10 20 30\n"
     ]
    },
    {
     "data": {
      "text/plain": [
       "60"
      ]
     },
     "execution_count": 10,
     "metadata": {},
     "output_type": "execute_result"
    }
   ],
   "source": [
    "fun2(10, 20, 30)"
   ]
  },
  {
   "cell_type": "code",
   "execution_count": 11,
   "metadata": {},
   "outputs": [
    {
     "name": "stdout",
     "output_type": "stream",
     "text": [
      "10 20 30\n"
     ]
    },
    {
     "data": {
      "text/plain": [
       "60"
      ]
     },
     "execution_count": 11,
     "metadata": {},
     "output_type": "execute_result"
    }
   ],
   "source": [
    "fun2(x=10, y=20, z=30)"
   ]
  },
  {
   "cell_type": "code",
   "execution_count": 12,
   "metadata": {},
   "outputs": [
    {
     "name": "stdout",
     "output_type": "stream",
     "text": [
      "30 20 10\n"
     ]
    },
    {
     "data": {
      "text/plain": [
       "60"
      ]
     },
     "execution_count": 12,
     "metadata": {},
     "output_type": "execute_result"
    }
   ],
   "source": [
    "# parameter 변수명에 값 직접 대입해서 함수 호출 하는 기술 \n",
    "\n",
    "fun2(z=10, y=20, x=30)"
   ]
  },
  {
   "cell_type": "code",
   "execution_count": 13,
   "metadata": {},
   "outputs": [],
   "source": [
    "# **kwargs 사용\n",
    "# dict 형식으로 인수값 변환\n",
    "\n",
    "def fun3(**kwargs):\n",
    "    #....\n",
    "    print(kwargs)\n"
   ]
  },
  {
   "cell_type": "code",
   "execution_count": 15,
   "metadata": {},
   "outputs": [
    {
     "name": "stdout",
     "output_type": "stream",
     "text": [
      "{'x': 10, 'y': 20, 'z': 30, 'yy': 'yy'}\n"
     ]
    }
   ],
   "source": [
    "fun3(x=10, y=20, z=30, yy='yy')"
   ]
  },
  {
   "cell_type": "code",
   "execution_count": 18,
   "metadata": {},
   "outputs": [],
   "source": [
    "# **kwargs 사용 + 반복문과 items()\n",
    "def fun4(**kwargs):\n",
    "    for k, v in kwargs.items():\n",
    "        print(k, v)"
   ]
  },
  {
   "cell_type": "code",
   "execution_count": 19,
   "metadata": {
    "scrolled": true
   },
   "outputs": [
    {
     "name": "stdout",
     "output_type": "stream",
     "text": [
      "x 10\n",
      "y 20\n",
      "z 30\n"
     ]
    }
   ],
   "source": [
    "fun4(x=10, y=20, z=30)"
   ]
  },
  {
   "cell_type": "markdown",
   "metadata": {},
   "source": [
    "### 3. 임의의 인수\n",
    "\n",
    "- *를 사용할 경우 인수는 튜퓰 형식\n",
    "- 가변인자 활용"
   ]
  },
  {
   "cell_type": "code",
   "execution_count": 20,
   "metadata": {},
   "outputs": [],
   "source": [
    "def fun3(*args, sep='-'):\n",
    "    print(sep.join(args))"
   ]
  },
  {
   "cell_type": "code",
   "execution_count": 21,
   "metadata": {},
   "outputs": [
    {
     "name": "stdout",
     "output_type": "stream",
     "text": [
      "a-b\n"
     ]
    }
   ],
   "source": [
    "fun3('a', 'b')"
   ]
  },
  {
   "cell_type": "code",
   "execution_count": 22,
   "metadata": {},
   "outputs": [
    {
     "name": "stdout",
     "output_type": "stream",
     "text": [
      "a-b-c\n"
     ]
    }
   ],
   "source": [
    "fun3('a', 'b', 'c')"
   ]
  },
  {
   "cell_type": "markdown",
   "metadata": {},
   "source": [
    "**미션-\n",
    "일회용 패스워드 생성기를 이용하여서 3개의 패스워드를 생성하여 출력하는 프로그램을 작성해 보기**\n",
    "\n",
    "출력 예시 : \n",
    "    \n",
    "ouuc4c <br>\n",
    "uuahtp <br>\n",
    "79s6oz <br>"
   ]
  },
  {
   "cell_type": "code",
   "execution_count": 52,
   "metadata": {},
   "outputs": [
    {
     "name": "stdout",
     "output_type": "stream",
     "text": [
      "20\n"
     ]
    }
   ],
   "source": [
    "import random\n",
    "\n",
    "print(random.randrange(36)) #0~35"
   ]
  },
  {
   "cell_type": "code",
   "execution_count": 53,
   "metadata": {},
   "outputs": [
    {
     "data": {
      "text/plain": [
       "'9'"
      ]
     },
     "execution_count": 53,
     "metadata": {},
     "output_type": "execute_result"
    }
   ],
   "source": [
    "alphabet = \"abcdefghijklmnopqrstuvwxyz0123456789\"\n",
    "#print(len(alphabet))\n",
    "alphabet[35]"
   ]
  },
  {
   "cell_type": "markdown",
   "metadata": {},
   "source": [
    "random() :0 이상 1 미만\n",
    "\n",
    "randrange() : 1에서 6까지의 정수 중 하나를 무작위로 반환"
   ]
  },
  {
   "cell_type": "code",
   "execution_count": 57,
   "metadata": {},
   "outputs": [
    {
     "name": "stdout",
     "output_type": "stream",
     "text": [
      "qyxxmv\n",
      "qi3nmj\n",
      "al1zqv\n"
     ]
    }
   ],
   "source": [
    "import random\n",
    "\n",
    "def gen_pass():\n",
    "    alphabet = \"abcdefghijklmnopqrstuvwxyz0123456789\"\n",
    "    password = \"\"\n",
    "    \n",
    "    for i in range(6):\n",
    "        index = random.randrange(36)\n",
    "        password = password+alphabet[index]\n",
    "    return password\n",
    "    \n",
    "print(gen_pass())\n",
    "print(gen_pass())\n",
    "print(gen_pass())"
   ]
  },
  {
   "cell_type": "markdown",
   "metadata": {},
   "source": [
    "### 4. 람다 함수\n",
    "\n",
    "- 이름없이 정의된 익명함수 \n",
    "- 매개변수 제한이 없음, 단 하나의 값만 반환\n",
    "- 함수의 반환, 변수의 데이터값으로 사용 가능\n",
    "- list의 sort의 key속성의 값으로도 사용 가능(실전 응용)\n",
    "- 문법 :<br>\n",
    "lambda 인자[,..] : 표현식(수식)\n"
   ]
  },
  {
   "cell_type": "code",
   "execution_count": 58,
   "metadata": {},
   "outputs": [],
   "source": [
    "f1 = lambda x : x + 10"
   ]
  },
  {
   "cell_type": "code",
   "execution_count": 59,
   "metadata": {},
   "outputs": [
    {
     "name": "stdout",
     "output_type": "stream",
     "text": [
      "110\n"
     ]
    }
   ],
   "source": [
    "print(f1(100))"
   ]
  },
  {
   "cell_type": "code",
   "execution_count": 60,
   "metadata": {},
   "outputs": [
    {
     "name": "stdout",
     "output_type": "stream",
     "text": [
      "<function sum.<locals>.<lambda> at 0x0000027246CCA550>\n"
     ]
    }
   ],
   "source": [
    "def sum(x):\n",
    "    return lambda x : x + 10\n",
    "\n",
    "print(sum(10))"
   ]
  },
  {
   "cell_type": "code",
   "execution_count": 61,
   "metadata": {},
   "outputs": [
    {
     "name": "stdout",
     "output_type": "stream",
     "text": [
      "110\n"
     ]
    }
   ],
   "source": [
    "# ? 값이 출력되게 하기 위한 문법 \n",
    "v = sum(10)  # 10+10의 반환값을 보유한 로직의 식 반환\n",
    "\n",
    "# v = lambda x : x + 10    2라인과 동일한 문법 \n",
    "\n",
    "print(v(100)) # 식에 값을 적용해서 호출하는 문법 "
   ]
  },
  {
   "cell_type": "code",
   "execution_count": 62,
   "metadata": {},
   "outputs": [
    {
     "data": {
      "text/plain": [
       "14"
      ]
     },
     "execution_count": 62,
     "metadata": {},
     "output_type": "execute_result"
    }
   ],
   "source": [
    "# ? 결과값 보고 람다식 도출\n",
    "# 람다식의 반환값은 하나여야만 함 \n",
    "\n",
    "f2 = lambda x, y, z : x**2 + y**2 + z **2\n",
    "f2(1, 2, 3)   # 14\n"
   ]
  },
  {
   "cell_type": "code",
   "execution_count": null,
   "metadata": {},
   "outputs": [],
   "source": []
  },
  {
   "cell_type": "code",
   "execution_count": 63,
   "metadata": {},
   "outputs": [],
   "source": [
    "mylist=[1, 5, 3, 9, 8, 4, 2]\n",
    "mylist.sort()"
   ]
  },
  {
   "cell_type": "code",
   "execution_count": 64,
   "metadata": {},
   "outputs": [
    {
     "data": {
      "text/plain": [
       "[1, 2, 3, 4, 5, 8, 9]"
      ]
     },
     "execution_count": 64,
     "metadata": {},
     "output_type": "execute_result"
    }
   ],
   "source": [
    "mylist"
   ]
  },
  {
   "cell_type": "code",
   "execution_count": 75,
   "metadata": {},
   "outputs": [
    {
     "data": {
      "text/plain": [
       "[('kim', 23, 100), ('lee', 27, 99), ('park', 43, 102)]"
      ]
     },
     "execution_count": 75,
     "metadata": {},
     "output_type": "execute_result"
    }
   ],
   "source": [
    "# 튜플로 구성된 list\n",
    "\n",
    "mylist2 = [('kim', 23, 100), ('lee', 27, 99), ('park', 43, 102)]\n",
    "mylist2"
   ]
  },
  {
   "cell_type": "code",
   "execution_count": 76,
   "metadata": {},
   "outputs": [
    {
     "data": {
      "text/plain": [
       "[('kim', 23, 100), ('lee', 27, 99), ('park', 43, 102)]"
      ]
     },
     "execution_count": 76,
     "metadata": {},
     "output_type": "execute_result"
    }
   ],
   "source": [
    "mylist2.sort(key=lambda a : a[1])\n",
    "mylist2"
   ]
  },
  {
   "cell_type": "code",
   "execution_count": 77,
   "metadata": {},
   "outputs": [
    {
     "data": {
      "text/plain": [
       "[('lee', 27, 99), ('park', 43, 102), ('kim', 123, 100)]"
      ]
     },
     "execution_count": 77,
     "metadata": {},
     "output_type": "execute_result"
    }
   ],
   "source": [
    "mylist2 = [('kim', 123, 100), ('lee', 27, 99), ('park', 43, 102)]\n",
    "mylist2.sort(key=lambda a : a[1])\n",
    "mylist2"
   ]
  },
  {
   "cell_type": "code",
   "execution_count": 78,
   "metadata": {},
   "outputs": [
    {
     "ename": "TypeError",
     "evalue": "'<' not supported between instances of 'str' and 'int'",
     "output_type": "error",
     "traceback": [
      "\u001b[1;31m---------------------------------------------------------------------------\u001b[0m",
      "\u001b[1;31mTypeError\u001b[0m                                 Traceback (most recent call last)",
      "\u001b[1;32m<ipython-input-78-0cc5041591af>\u001b[0m in \u001b[0;36m<module>\u001b[1;34m\u001b[0m\n\u001b[0;32m      1\u001b[0m \u001b[0mmylist2\u001b[0m \u001b[1;33m=\u001b[0m \u001b[1;33m[\u001b[0m\u001b[1;33m(\u001b[0m\u001b[1;34m'kim'\u001b[0m\u001b[1;33m,\u001b[0m \u001b[1;36m123\u001b[0m\u001b[1;33m,\u001b[0m \u001b[1;36m100\u001b[0m\u001b[1;33m)\u001b[0m\u001b[1;33m,\u001b[0m \u001b[1;33m(\u001b[0m\u001b[1;36m27\u001b[0m\u001b[1;33m,\u001b[0m \u001b[1;34m'lee'\u001b[0m\u001b[1;33m,\u001b[0m  \u001b[1;36m99\u001b[0m\u001b[1;33m)\u001b[0m\u001b[1;33m,\u001b[0m \u001b[1;33m(\u001b[0m\u001b[1;34m'park'\u001b[0m\u001b[1;33m,\u001b[0m \u001b[1;36m43\u001b[0m\u001b[1;33m,\u001b[0m \u001b[1;36m102\u001b[0m\u001b[1;33m)\u001b[0m\u001b[1;33m]\u001b[0m\u001b[1;33m\u001b[0m\u001b[1;33m\u001b[0m\u001b[0m\n\u001b[1;32m----> 2\u001b[1;33m \u001b[0mmylist2\u001b[0m\u001b[1;33m.\u001b[0m\u001b[0msort\u001b[0m\u001b[1;33m(\u001b[0m\u001b[0mkey\u001b[0m\u001b[1;33m=\u001b[0m\u001b[1;32mlambda\u001b[0m \u001b[0ma\u001b[0m \u001b[1;33m:\u001b[0m \u001b[0ma\u001b[0m\u001b[1;33m[\u001b[0m\u001b[1;36m1\u001b[0m\u001b[1;33m]\u001b[0m\u001b[1;33m)\u001b[0m\u001b[1;33m\u001b[0m\u001b[1;33m\u001b[0m\u001b[0m\n\u001b[0m\u001b[0;32m      3\u001b[0m \u001b[0mmylist2\u001b[0m\u001b[1;33m\u001b[0m\u001b[1;33m\u001b[0m\u001b[0m\n",
      "\u001b[1;31mTypeError\u001b[0m: '<' not supported between instances of 'str' and 'int'"
     ]
    }
   ],
   "source": [
    "# 오류 왜? index인 1 즉 두번째 데이터값들 간에 정렬 불가한 포멧 포함되어 있기 때문\n",
    "# mylist2 = [('kim', 123, 100), (27, 'lee',  99), ('park', 43, 102)]\n",
    "# mylist2.sort(key=lambda a : a[1])\n",
    "# mylist2"
   ]
  },
  {
   "cell_type": "code",
   "execution_count": null,
   "metadata": {},
   "outputs": [],
   "source": []
  },
  {
   "cell_type": "code",
   "execution_count": 79,
   "metadata": {},
   "outputs": [
    {
     "data": {
      "text/plain": [
       "[('kim', 23, 100), ('lee', 27, 99), ('park', 43, 102)]"
      ]
     },
     "execution_count": 79,
     "metadata": {},
     "output_type": "execute_result"
    }
   ],
   "source": [
    "mylist2 = [('kim', 23, 100), ('lee', 27, 99), ('park', 43, 102)]\n",
    "mylist2"
   ]
  },
  {
   "cell_type": "code",
   "execution_count": 80,
   "metadata": {},
   "outputs": [
    {
     "data": {
      "text/plain": [
       "[('lee', 27, 99), ('kim', 23, 100), ('park', 43, 102)]"
      ]
     },
     "execution_count": 80,
     "metadata": {},
     "output_type": "execute_result"
    }
   ],
   "source": [
    "mylist2.sort(key=lambda a : a[2])\n",
    "mylist2"
   ]
  },
  {
   "cell_type": "code",
   "execution_count": 74,
   "metadata": {},
   "outputs": [
    {
     "data": {
      "text/plain": [
       "[('kim', 23, 100), ('lee', 27, 99), ('park', 43, 102)]"
      ]
     },
     "execution_count": 74,
     "metadata": {},
     "output_type": "execute_result"
    }
   ],
   "source": [
    "mylist2 = [('kim', 23, 100), ('lee', 27, 99), ('park', 43, 102)]\n",
    "mylist2.sort()\n",
    "mylist2"
   ]
  },
  {
   "cell_type": "code",
   "execution_count": 72,
   "metadata": {},
   "outputs": [
    {
     "data": {
      "text/plain": [
       "[('kim', 23, 100), ('lee', 27, 99), ('park', 43, 102)]"
      ]
     },
     "execution_count": 72,
     "metadata": {},
     "output_type": "execute_result"
    }
   ],
   "source": [
    "mylist2 = [('kim', 23, 100), ('lee', 27, 99), ('park', 43, 102)]\n",
    "mylist2.sort(key=lambda a : a[0])\n",
    "mylist2"
   ]
  },
  {
   "cell_type": "code",
   "execution_count": 73,
   "metadata": {},
   "outputs": [
    {
     "data": {
      "text/plain": [
       "[('kim', 23, 100), ('lee', 27, 99), ('park', 43, 102)]"
      ]
     },
     "execution_count": 73,
     "metadata": {},
     "output_type": "execute_result"
    }
   ],
   "source": [
    "mylist2 = [('kim', 23, 100), ('lee', 27, 99), ('park', 43, 102)]\n",
    "mylist2.sort(key=lambda a : a[1])\n",
    "mylist2"
   ]
  },
  {
   "cell_type": "code",
   "execution_count": 85,
   "metadata": {},
   "outputs": [
    {
     "data": {
      "text/plain": [
       "['egg', 'Ham', 'Spam']"
      ]
     },
     "execution_count": 85,
     "metadata": {},
     "output_type": "execute_result"
    }
   ],
   "source": [
    "# 대소문자 구분없이 sort 함수로 정렬 \n",
    "# 람다 사용해서 소문자로 변경해서 정렬 \n",
    "# lower()\n",
    "mylist3 = ['Spam', 'egg', 'Ham']\n",
    "\n",
    "# mylist3.sort()  #['Ham', 'Spam', 'egg'] \n",
    "mylist3.sort(key=lambda x: x.lower())\n",
    "mylist3"
   ]
  },
  {
   "cell_type": "code",
   "execution_count": null,
   "metadata": {},
   "outputs": [],
   "source": []
  },
  {
   "cell_type": "code",
   "execution_count": 88,
   "metadata": {},
   "outputs": [
    {
     "data": {
      "text/plain": [
       "['one', 'three', 'two']"
      ]
     },
     "execution_count": 88,
     "metadata": {},
     "output_type": "execute_result"
    }
   ],
   "source": [
    "mydict1 = {'one':1, 'two':2, 'three':3}\n",
    "sorted(mydict1)  # key 정렬"
   ]
  },
  {
   "cell_type": "code",
   "execution_count": 89,
   "metadata": {},
   "outputs": [
    {
     "data": {
      "text/plain": [
       "{'one': 1, 'two': 2, 'three': 3}"
      ]
     },
     "execution_count": 89,
     "metadata": {},
     "output_type": "execute_result"
    }
   ],
   "source": [
    "mydict1"
   ]
  },
  {
   "cell_type": "markdown",
   "metadata": {},
   "source": [
    "### 5. map() 함수\n",
    "\n",
    "- 문법 : map(함수, 리스트)\n",
    "- 시퀀스의 모든 항목에 함수를 적용한 결과 리스트 반환"
   ]
  },
  {
   "cell_type": "code",
   "execution_count": 92,
   "metadata": {},
   "outputs": [
    {
     "data": {
      "text/plain": [
       "[1, 4, 9, 16, 25, 36, 49, 64, 81, 100]"
      ]
     },
     "execution_count": 92,
     "metadata": {},
     "output_type": "execute_result"
    }
   ],
   "source": [
    "def cube(x):\n",
    "#     print(x)\n",
    "    return x**2\n",
    "\n",
    "# lambda x : x**2\n",
    "\n",
    "list(map(cube, range(1, 11)))"
   ]
  },
  {
   "cell_type": "code",
   "execution_count": 93,
   "metadata": {},
   "outputs": [
    {
     "data": {
      "text/plain": [
       "[1, 4, 9, 16, 25, 36, 49, 64, 81, 100]"
      ]
     },
     "execution_count": 93,
     "metadata": {},
     "output_type": "execute_result"
    }
   ],
   "source": [
    "# ? lambda식으로 구현\n",
    "\n",
    "list(map(lambda x : x**2, range(1, 11)))"
   ]
  },
  {
   "cell_type": "code",
   "execution_count": null,
   "metadata": {},
   "outputs": [],
   "source": []
  },
  {
   "cell_type": "code",
   "execution_count": 58,
   "metadata": {},
   "outputs": [
    {
     "name": "stdout",
     "output_type": "stream",
     "text": [
      "0\n",
      "1\n",
      "4\n",
      "9\n",
      "16\n"
     ]
    }
   ],
   "source": [
    "for i in range(5):\n",
    "    print(i**2)"
   ]
  },
  {
   "cell_type": "code",
   "execution_count": null,
   "metadata": {},
   "outputs": [],
   "source": []
  },
  {
   "cell_type": "markdown",
   "metadata": {},
   "source": [
    "### 6. reduce() 함수\n",
    "- 주로 집계용으로 사용\n",
    "- 사용을 위해서는 functools 모듈 선언"
   ]
  },
  {
   "cell_type": "code",
   "execution_count": 94,
   "metadata": {},
   "outputs": [
    {
     "name": "stdout",
     "output_type": "stream",
     "text": [
      "15\n"
     ]
    }
   ],
   "source": [
    "from functools import reduce\n",
    "\n",
    "'''\n",
    "x, y = 1, 2 -> 3\n",
    "     = 3, 3 -> 6\n",
    "     = 6, 4 -> 10\n",
    "     = 10, 5 -> 15\n",
    "'''\n",
    "data = reduce(lambda x, y: x+y, [1, 2, 3, 4, 5])\n",
    "print(data)"
   ]
  },
  {
   "cell_type": "code",
   "execution_count": 95,
   "metadata": {},
   "outputs": [
    {
     "name": "stdout",
     "output_type": "stream",
     "text": [
      "15\n"
     ]
    }
   ],
   "source": [
    "#상단 reduce에 사용된 lambda의 로직을 단순 python 문법으로 개발한 코드\n",
    "\n",
    "def userReduce():\n",
    "    datas = [1, 2, 3, 4, 5]\n",
    "    v = 0\n",
    "    for x in datas:\n",
    "        v = v+x\n",
    "    print(v)\n",
    "    \n",
    "userReduce()"
   ]
  },
  {
   "cell_type": "markdown",
   "metadata": {},
   "source": [
    "### 7. filter()\n",
    "\n",
    "- 데이터의 일부만 착출 가능한 기능의 즉 필터링 기능의 함수\n",
    "- 시퀀스의 항목들 중 함수 조건이 True인 항목만 추출\n",
    "- 문법 : filter(함수, 리스트)\n"
   ]
  },
  {
   "cell_type": "code",
   "execution_count": 96,
   "metadata": {},
   "outputs": [
    {
     "data": {
      "text/plain": [
       "<filter at 0x27246253580>"
      ]
     },
     "execution_count": 96,
     "metadata": {},
     "output_type": "execute_result"
    }
   ],
   "source": [
    "filter(lambda x : x < 5 , range(10))"
   ]
  },
  {
   "cell_type": "code",
   "execution_count": 97,
   "metadata": {},
   "outputs": [
    {
     "data": {
      "text/plain": [
       "[0, 1, 2, 3, 4]"
      ]
     },
     "execution_count": 97,
     "metadata": {},
     "output_type": "execute_result"
    }
   ],
   "source": [
    "list(filter(lambda x : x < 5 , range(10)))"
   ]
  },
  {
   "cell_type": "code",
   "execution_count": 98,
   "metadata": {},
   "outputs": [
    {
     "data": {
      "text/plain": [
       "(0, 1, 2, 3, 4)"
      ]
     },
     "execution_count": 98,
     "metadata": {},
     "output_type": "execute_result"
    }
   ],
   "source": [
    "tuple(filter(lambda x : x < 5 , range(10)))"
   ]
  },
  {
   "cell_type": "markdown",
   "metadata": {},
   "source": [
    "**미션** : (123,) 값이 출력될 수 있도록 로직 완성하세요"
   ]
  },
  {
   "cell_type": "code",
   "execution_count": 99,
   "metadata": {},
   "outputs": [
    {
     "data": {
      "text/plain": [
       "(10, 22, 37, 41, 100, 123, 29)"
      ]
     },
     "execution_count": 99,
     "metadata": {},
     "output_type": "execute_result"
    }
   ],
   "source": [
    "list2 = (10,22,37,41,100,123,29)  \n",
    "list2"
   ]
  },
  {
   "cell_type": "code",
   "execution_count": 100,
   "metadata": {},
   "outputs": [
    {
     "data": {
      "text/plain": [
       "(123,)"
      ]
     },
     "execution_count": 100,
     "metadata": {},
     "output_type": "execute_result"
    }
   ],
   "source": [
    "tuple( filter( lambda x : x % 3 == 0, list2 ) )"
   ]
  },
  {
   "cell_type": "markdown",
   "metadata": {},
   "source": [
    "### 8. Collection 함수\n",
    "\n",
    "- 순서값과 요소값을 한번에 구하는 내장 함수\n",
    "- 기본 for문을 활용해서 학생 순번에 맞게 list 점수 출력\n",
    "- enumerate() 활용해서 순서와 요소값을 한번에 튜플로 반환"
   ]
  },
  {
   "cell_type": "code",
   "execution_count": 101,
   "metadata": {},
   "outputs": [
    {
     "name": "stdout",
     "output_type": "stream",
     "text": [
      "1번 학생의 성적 :  80\n",
      "2번 학생의 성적 :  30\n",
      "3번 학생의 성적 :  70\n",
      "4번 학생의 성적 :  85\n",
      "5번 학생의 성적 :  90\n"
     ]
    }
   ],
   "source": [
    "score = [80, 30, 70, 85, 90]\n",
    "\n",
    "for no in range(len(score)):\n",
    "    print(str(no+1) + '번 학생의 성적 : ', score[no])"
   ]
  },
  {
   "cell_type": "code",
   "execution_count": 102,
   "metadata": {},
   "outputs": [
    {
     "name": "stdout",
     "output_type": "stream",
     "text": [
      "1 번 학생의 성적 :  80\n",
      "2 번 학생의 성적 :  30\n",
      "3 번 학생의 성적 :  70\n",
      "4 번 학생의 성적 :  85\n",
      "5 번 학생의 성적 :  90\n"
     ]
    }
   ],
   "source": [
    "score = [80, 30, 70, 85, 90]\n",
    "\n",
    "for i, v in enumerate(score):\n",
    "    print(i+1, '번 학생의 성적 : ', score[i])\n"
   ]
  },
  {
   "cell_type": "code",
   "execution_count": null,
   "metadata": {},
   "outputs": [],
   "source": []
  }
 ],
 "metadata": {
  "kernelspec": {
   "display_name": "Python 3",
   "language": "python",
   "name": "python3"
  },
  "language_info": {
   "codemirror_mode": {
    "name": "ipython",
    "version": 3
   },
   "file_extension": ".py",
   "mimetype": "text/x-python",
   "name": "python",
   "nbconvert_exporter": "python",
   "pygments_lexer": "ipython3",
   "version": "3.8.5"
  }
 },
 "nbformat": 4,
 "nbformat_minor": 2
}
