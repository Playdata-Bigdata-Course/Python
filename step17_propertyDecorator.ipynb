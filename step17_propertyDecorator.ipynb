{
 "cells": [
  {
   "cell_type": "markdown",
   "metadata": {},
   "source": [
    "데코레이터 \n",
    "\n",
    "\n",
    "1. 장식자 라고도 함 <br>\n",
    "2. 표현법 : java의 anootation과 동일 <br>\n",
    "3. python에선 장식자 활용해서 기능 완성"
   ]
  },
  {
   "cell_type": "markdown",
   "metadata": {},
   "source": [
    "Property 장식자\n",
    "\n",
    "1. 객체의 특정 속성에 대한 접근을 제어 하고자 할 경우 사용\n",
    "2. 개발 방식\n",
    "    >@Property  <br>\n",
    "    >속성명과 동일한 함수를 구현\n",
    "    >속성명과 동일한 @데코레이터 .setter가 선언된 함수 구현"
   ]
  },
  {
   "cell_type": "markdown",
   "metadata": {},
   "source": [
    "고객의 나이는 반드시 1 이상이어야 할 경우 property로 제어하는 방법"
   ]
  },
  {
   "cell_type": "markdown",
   "metadata": {},
   "source": [
    "자바와 비교시 자바는 private으로 선언된 변수는 외부에서 호출 절대 불가 <br>\n",
    "\n",
    "python은 __or__는 호출하지 마세요 라는 메세지 일뿐 <br>\n",
    "\n",
    "python은 자바의 public한 setXxx메소드[유효성 로직 보유]와 같은 구조로 @Property 장식자 사용 <br>\n",
    "변수 호출하는 문법으로 내부적으로 <br>\n",
    "1. 참조변수명.함수명;  @property 가 선언된 함수 호출\n",
    "2. 참조변수명.함수명 = 값;   @age.setter 선언된 함수 호출"
   ]
  },
  {
   "cell_type": "code",
   "execution_count": 23,
   "metadata": {},
   "outputs": [],
   "source": [
    "class Customer:\n",
    "    def __init__(self, name):\n",
    "        self.name = name\n",
    "        self._age = None # _로 시작되는 변수들은 절대 외부에서 호출 금지(약속)하자는 sign\n",
    "                # c._age  /  c.__age\n",
    "        \n",
    "    @property   \n",
    "    def age(self):               # c.age로 호출되는 함수, c.age(10) 호출시 에러 발생\n",
    "        print('@Property age')\n",
    "        return self._age\n",
    "    \n",
    "    @age.setter\n",
    "    def age(self, new_age):      # c.age = 값 문법으로 호출       \n",
    "        print(\"@age.setter\")\n",
    "        if new_age <= 0:\n",
    "            raise ValueError(f\" 무효한 나이 '{new_age}'\")\n",
    "        self._age = new_age"
   ]
  },
  {
   "cell_type": "code",
   "execution_count": 16,
   "metadata": {},
   "outputs": [],
   "source": [
    "c = Customer('백종원')"
   ]
  },
  {
   "cell_type": "code",
   "execution_count": 17,
   "metadata": {
    "scrolled": true
   },
   "outputs": [
    {
     "name": "stdout",
     "output_type": "stream",
     "text": [
      "@Property age\n"
     ]
    }
   ],
   "source": [
    "c.age"
   ]
  },
  {
   "cell_type": "code",
   "execution_count": 18,
   "metadata": {},
   "outputs": [
    {
     "name": "stdout",
     "output_type": "stream",
     "text": [
      "@Property age\n"
     ]
    },
    {
     "ename": "TypeError",
     "evalue": "'NoneType' object is not callable",
     "output_type": "error",
     "traceback": [
      "\u001b[1;31m---------------------------------------------------------------------------\u001b[0m",
      "\u001b[1;31mTypeError\u001b[0m                                 Traceback (most recent call last)",
      "\u001b[1;32m<ipython-input-18-323899e9e1c9>\u001b[0m in \u001b[0;36m<module>\u001b[1;34m\u001b[0m\n\u001b[1;32m----> 1\u001b[1;33m \u001b[0mc\u001b[0m\u001b[1;33m.\u001b[0m\u001b[0mage\u001b[0m\u001b[1;33m(\u001b[0m\u001b[1;36m10\u001b[0m\u001b[1;33m)\u001b[0m\u001b[1;33m\u001b[0m\u001b[1;33m\u001b[0m\u001b[0m\n\u001b[0m",
      "\u001b[1;31mTypeError\u001b[0m: 'NoneType' object is not callable"
     ]
    }
   ],
   "source": [
    "c.age(10)"
   ]
  },
  {
   "cell_type": "code",
   "execution_count": 22,
   "metadata": {},
   "outputs": [
    {
     "name": "stdout",
     "output_type": "stream",
     "text": [
      "@age.setter\n"
     ]
    },
    {
     "ename": "ValueError",
     "evalue": " 무효한 나이 '-1'",
     "output_type": "error",
     "traceback": [
      "\u001b[1;31m---------------------------------------------------------------------------\u001b[0m",
      "\u001b[1;31mValueError\u001b[0m                                Traceback (most recent call last)",
      "\u001b[1;32m<ipython-input-22-77533e2c3b1d>\u001b[0m in \u001b[0;36m<module>\u001b[1;34m\u001b[0m\n\u001b[1;32m----> 1\u001b[1;33m \u001b[0mc\u001b[0m\u001b[1;33m.\u001b[0m\u001b[0mage\u001b[0m \u001b[1;33m=\u001b[0m \u001b[1;33m-\u001b[0m\u001b[1;36m1\u001b[0m\u001b[1;33m\u001b[0m\u001b[1;33m\u001b[0m\u001b[0m\n\u001b[0m",
      "\u001b[1;32m<ipython-input-15-0d8d81b61ae9>\u001b[0m in \u001b[0;36mage\u001b[1;34m(self, new_age)\u001b[0m\n\u001b[0;32m     13\u001b[0m         \u001b[0mprint\u001b[0m\u001b[1;33m(\u001b[0m\u001b[1;34m\"@age.setter\"\u001b[0m\u001b[1;33m)\u001b[0m\u001b[1;33m\u001b[0m\u001b[1;33m\u001b[0m\u001b[0m\n\u001b[0;32m     14\u001b[0m         \u001b[1;32mif\u001b[0m \u001b[0mnew_age\u001b[0m \u001b[1;33m<=\u001b[0m \u001b[1;36m0\u001b[0m\u001b[1;33m:\u001b[0m\u001b[1;33m\u001b[0m\u001b[1;33m\u001b[0m\u001b[0m\n\u001b[1;32m---> 15\u001b[1;33m             \u001b[1;32mraise\u001b[0m \u001b[0mValueError\u001b[0m\u001b[1;33m(\u001b[0m\u001b[1;34mf\" 무효한 나이 '{new_age}'\"\u001b[0m\u001b[1;33m)\u001b[0m\u001b[1;33m\u001b[0m\u001b[1;33m\u001b[0m\u001b[0m\n\u001b[0m\u001b[0;32m     16\u001b[0m         \u001b[0mself\u001b[0m\u001b[1;33m.\u001b[0m\u001b[0m_age\u001b[0m \u001b[1;33m=\u001b[0m \u001b[0mnew_age\u001b[0m\u001b[1;33m\u001b[0m\u001b[1;33m\u001b[0m\u001b[0m\n",
      "\u001b[1;31mValueError\u001b[0m:  무효한 나이 '-1'"
     ]
    }
   ],
   "source": [
    "c.age = -1"
   ]
  },
  {
   "cell_type": "code",
   "execution_count": 20,
   "metadata": {},
   "outputs": [],
   "source": [
    "c._age = -10"
   ]
  },
  {
   "cell_type": "code",
   "execution_count": 25,
   "metadata": {},
   "outputs": [
    {
     "name": "stdout",
     "output_type": "stream",
     "text": [
      "-10\n"
     ]
    }
   ],
   "source": [
    "print(c._age) # 문법만 OK, 논리적으로 0이하값은 절대 대입하지 "
   ]
  },
  {
   "cell_type": "code",
   "execution_count": null,
   "metadata": {},
   "outputs": [],
   "source": [
    "Mission : email을 기준으로 필터링 하는 로직의 클래스 개발"
   ]
  },
  {
   "cell_type": "code",
   "execution_count": 36,
   "metadata": {},
   "outputs": [],
   "source": [
    "import re\n",
    "def email_validate(email):\n",
    "    return re.match(r\"[^@]+@[^@]+\\.[^@]+\", email) is not None;\n",
    "\n",
    "class User:\n",
    "    def __init__(self, username):\n",
    "        self.name = username\n",
    "        self._email = None\n",
    "        \n",
    "    @property\n",
    "    def email(self):\n",
    "        return self._email\n",
    "    \n",
    "    @email.setter\n",
    "    def email(self, validate_email):\n",
    "        # not True -> false 즉 정규표현식에 맞는 문자열은 True값 반환 따라서 nopt True\n",
    "        if not email_validate(validate_email) :\n",
    "            raise ValueError(f\"무효한 email '{validate_email}'\")\n",
    "        self._email = validate_email"
   ]
  },
  {
   "cell_type": "code",
   "execution_count": 37,
   "metadata": {},
   "outputs": [
    {
     "name": "stdout",
     "output_type": "stream",
     "text": [
      "test@test.com\n",
      "무효한 email 'a@'\n"
     ]
    }
   ],
   "source": [
    "u = User(\"현아\")\n",
    "u.email = 'test@test.com' #정상\n",
    "print(u.email)\n",
    "try:\n",
    "    u.email = 'a@' # 예외 발상되게 User 완성하기\n",
    "    print(u.email)\n",
    "except ValueError as v :\n",
    "    print(v)"
   ]
  }
 ],
 "metadata": {
  "celltoolbar": "Raw Cell Format",
  "kernelspec": {
   "display_name": "Python 3",
   "language": "python",
   "name": "python3"
  },
  "language_info": {
   "codemirror_mode": {
    "name": "ipython",
    "version": 3
   },
   "file_extension": ".py",
   "mimetype": "text/x-python",
   "name": "python",
   "nbconvert_exporter": "python",
   "pygments_lexer": "ipython3",
   "version": "3.8.5"
  }
 },
 "nbformat": 4,
 "nbformat_minor": 4
}
