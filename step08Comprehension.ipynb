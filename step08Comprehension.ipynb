{
 "cells": [
  {
   "cell_type": "markdown",
   "metadata": {},
   "source": [
    "<!--NAVIGATION-->\n",
    "\n",
    "\n",
    "[[step07. 함수 학습 page로 이동](step07Function.ipynb) ] | [[step09.예외 처리 학습 page로 이동](step09_1Exception.ipynb) ] | "
   ]
  },
  {
   "cell_type": "markdown",
   "metadata": {},
   "source": [
    "### 컴프리헨션\n",
    "\n",
    "1. 리스트, 세트, 딕셔너리 내에서 실행 할 수 있는 한 줄 for문\n",
    "- 리스트 컴프리헨션, 세트 컴프리헨션, 딕셔너리 컴프리헨션라고 함\n",
    "- 컴프리헨션 : 내장, 내포의 의미"
   ]
  },
  {
   "cell_type": "code",
   "execution_count": 1,
   "metadata": {},
   "outputs": [],
   "source": [
    "# 0~9까지 제곱하는 로직\n",
    "\n",
    "datas = []\n",
    "\n",
    "for x in range(10):\n",
    "    datas.append(x**2)"
   ]
  },
  {
   "cell_type": "code",
   "execution_count": 2,
   "metadata": {},
   "outputs": [
    {
     "data": {
      "text/plain": [
       "[0, 1, 4, 9, 16, 25, 36, 49, 64, 81]"
      ]
     },
     "execution_count": 2,
     "metadata": {},
     "output_type": "execute_result"
    }
   ],
   "source": [
    "datas"
   ]
  },
  {
   "cell_type": "code",
   "execution_count": 3,
   "metadata": {},
   "outputs": [
    {
     "data": {
      "text/plain": [
       "[0, 1, 4, 9, 16, 25, 36, 49, 64, 81]"
      ]
     },
     "execution_count": 3,
     "metadata": {},
     "output_type": "execute_result"
    }
   ],
   "source": [
    "#cpmprehension 문법 \n",
    " \n",
    "datas = [x**2 for x in range(10)]\n",
    "datas"
   ]
  },
  {
   "cell_type": "code",
   "execution_count": 5,
   "metadata": {},
   "outputs": [
    {
     "data": {
      "text/plain": [
       "[2, 3, 4, 5, 6, 7]"
      ]
     },
     "execution_count": 5,
     "metadata": {},
     "output_type": "execute_result"
    }
   ],
   "source": [
    "# 0~5까지 반복해서 순차적으로 +2를 한 결과값들을 하나의 list에 저장 후 출력\n",
    "\n",
    "\n",
    "datas2 = [i+2 for i in range(6)]\n",
    "datas2"
   ]
  },
  {
   "cell_type": "code",
   "execution_count": 7,
   "metadata": {},
   "outputs": [
    {
     "data": {
      "text/plain": [
       "[2, 4, 6]"
      ]
     },
     "execution_count": 7,
     "metadata": {},
     "output_type": "execute_result"
    }
   ],
   "source": []
  },
  {
   "cell_type": "markdown",
   "metadata": {},
   "source": [
    "**조건식 추가**"
   ]
  },
  {
   "cell_type": "markdown",
   "metadata": {},
   "source": [
    "0~5까지의 데이터 중 양수인 경우만 +2를 해서 list에 저장 및 출력하기"
   ]
  },
  {
   "cell_type": "code",
   "execution_count": 79,
   "metadata": {},
   "outputs": [
    {
     "data": {
      "text/plain": [
       "[2, 4, 6]"
      ]
     },
     "execution_count": 79,
     "metadata": {},
     "output_type": "execute_result"
    }
   ],
   "source": [
    "# 일반 코드\n",
    "\n",
    "datas2 =[]\n",
    "\n",
    "for v in range(6):\n",
    "    if v%2 == 0:\n",
    "        datas2.append(v+2)\n",
    "        \n",
    "datas2"
   ]
  },
  {
   "cell_type": "code",
   "execution_count": 8,
   "metadata": {},
   "outputs": [
    {
     "data": {
      "text/plain": [
       "[2, 4, 6]"
      ]
     },
     "execution_count": 8,
     "metadata": {},
     "output_type": "execute_result"
    }
   ],
   "source": [
    "# comprehension 적용 코드\n",
    "\n",
    "#cpmprehension 적용 코드\n",
    "\n",
    "datas2 = [v+2 for v in range(6) if v%2 ==0]\n",
    "datas2"
   ]
  },
  {
   "cell_type": "code",
   "execution_count": null,
   "metadata": {},
   "outputs": [],
   "source": []
  },
  {
   "cell_type": "code",
   "execution_count": 82,
   "metadata": {},
   "outputs": [
    {
     "data": {
      "text/plain": [
       "[(1, 3), (1, 4), (2, 3), (2, 1), (2, 4), (3, 1), (3, 4)]"
      ]
     },
     "execution_count": 82,
     "metadata": {},
     "output_type": "execute_result"
    }
   ],
   "source": [
    "# list에 튜플 생성해서 저장하는 로직\n",
    "combs = []\n",
    "\n",
    "for x in [1, 2, 3]:\n",
    "    for y in [3, 1, 4]:\n",
    "        if x != y:\n",
    "            combs.append((x, y))\n",
    "            \n",
    "combs       "
   ]
  },
  {
   "cell_type": "code",
   "execution_count": 11,
   "metadata": {},
   "outputs": [
    {
     "data": {
      "text/plain": [
       "[(1, 3), (1, 4), (2, 3), (2, 1), (2, 4), (3, 1), (3, 4)]"
      ]
     },
     "execution_count": 11,
     "metadata": {},
     "output_type": "execute_result"
    }
   ],
   "source": [
    "# comprehension \n",
    "\n",
    "combs2 = [(x, y) for x in [1, 2, 3] for y in [3, 1, 4] if x != y]\n",
    "\n",
    "combs2"
   ]
  },
  {
   "cell_type": "markdown",
   "metadata": {},
   "source": [
    "- 딕셔너리와 세트에도 리스트 컴프리헨션에 해당하는 문법 존재"
   ]
  },
  {
   "cell_type": "code",
   "execution_count": 74,
   "metadata": {},
   "outputs": [
    {
     "name": "stdout",
     "output_type": "stream",
     "text": [
      "<class 'dict'>\n",
      "{1: 'one', 2: 'two'}\n",
      "one\n"
     ]
    }
   ],
   "source": [
    "# {key:value, ... } - dict 구조에 comprehension 적용해 보기\n",
    "'''\n",
    "() : 불변인 튜플\n",
    "[] : list는 데이터 타입과 무관하게 혼용해서 다 수용\n",
    "[(1, 'one'), (2, 'two')] : 튜플들을 보유한 리스트\n",
    "\n",
    "이 리스트로 딕셔너리 생성\n",
    "'''\n",
    "data = {x:y for x, y in [(1, 'one'), (2, 'two')]}\n",
    "\n",
    "print(type(data))\n",
    "print(data)\n",
    "print(data[1])"
   ]
  },
  {
   "cell_type": "code",
   "execution_count": 13,
   "metadata": {},
   "outputs": [],
   "source": [
    "v = {1:2, 2:3, 3:4}"
   ]
  },
  {
   "cell_type": "code",
   "execution_count": 14,
   "metadata": {},
   "outputs": [
    {
     "data": {
      "text/plain": [
       "dict"
      ]
     },
     "execution_count": 14,
     "metadata": {},
     "output_type": "execute_result"
    }
   ],
   "source": [
    "type(v)"
   ]
  },
  {
   "cell_type": "code",
   "execution_count": 15,
   "metadata": {
    "scrolled": true
   },
   "outputs": [
    {
     "data": {
      "text/plain": [
       "{1: 2, 2: 3, 3: 4}"
      ]
     },
     "execution_count": 15,
     "metadata": {},
     "output_type": "execute_result"
    }
   ],
   "source": [
    "v"
   ]
  },
  {
   "cell_type": "code",
   "execution_count": 16,
   "metadata": {},
   "outputs": [
    {
     "data": {
      "text/plain": [
       "{1: 2, 2: 3, 3: 4}"
      ]
     },
     "execution_count": 16,
     "metadata": {},
     "output_type": "execute_result"
    }
   ],
   "source": [
    "{x:x+1 for x in range(1,4)}"
   ]
  },
  {
   "cell_type": "markdown",
   "metadata": {},
   "source": [
    "- 딕셔너리와 세트에 적용한 컴프리헨션"
   ]
  },
  {
   "cell_type": "code",
   "execution_count": 17,
   "metadata": {},
   "outputs": [
    {
     "name": "stdout",
     "output_type": "stream",
     "text": [
      "{'A': 90, 'B': 80, 'C': 70}\n",
      "{80, 90, 70}\n"
     ]
    }
   ],
   "source": [
    "score = {'A' : 90, 'B' : 80, 'C' : 70}\n",
    "rank_dict = {rank : name for rank, name in score.items()}\n",
    "\n",
    "rank_set = {x for x in rank_dict.values()} # {80, 90, 70} : set 타입\n",
    "\n",
    "print(rank_dict)\n",
    "print(rank_set)\n",
    "\n",
    "\n"
   ]
  },
  {
   "cell_type": "code",
   "execution_count": 19,
   "metadata": {},
   "outputs": [
    {
     "name": "stdout",
     "output_type": "stream",
     "text": [
      "1 4\n",
      "2 5\n",
      "3 6\n",
      "[(1, 4), (2, 5), (3, 6)]\n"
     ]
    }
   ],
   "source": [
    "# zip 함수를 사용한 list들의 데이터를 활용하는 방법\n",
    "x = [1, 2, 3]\n",
    "y = [4, 5, 6]\n",
    "\n",
    "for k, v in zip(x, y):\n",
    "    print(k, v)\n",
    "print(list(zip(x, y)))"
   ]
  },
  {
   "cell_type": "code",
   "execution_count": 2,
   "metadata": {},
   "outputs": [],
   "source": [
    "# ? 함축( value * value 식이 수행되는 로직 개발)\n",
    "# 데이터 값 : 0~9까지 (0*0, 1*1, 2*2,...)\n",
    "\n",
    "\n"
   ]
  },
  {
   "cell_type": "code",
   "execution_count": 15,
   "metadata": {},
   "outputs": [
    {
     "data": {
      "text/plain": [
       "[0, 4, 16, 36, 64]"
      ]
     },
     "execution_count": 15,
     "metadata": {},
     "output_type": "execute_result"
    }
   ],
   "source": [
    "#? 앞단 예제의 결과중에 짝수값만으로 새로운 list 구성해서 출력하기\n",
    "\n"
   ]
  },
  {
   "cell_type": "code",
   "execution_count": 16,
   "metadata": {},
   "outputs": [
    {
     "name": "stdout",
     "output_type": "stream",
     "text": [
      "0 4 16 36 64 "
     ]
    }
   ],
   "source": [
    "for v in range(10):\n",
    "    if v%2 == 0:\n",
    "        print(v*v, end=' ')"
   ]
  },
  {
   "cell_type": "code",
   "execution_count": 22,
   "metadata": {},
   "outputs": [
    {
     "data": {
      "text/plain": [
       "[[10, 11, 12], [13, 14, 15], [16, 17, 18]]"
      ]
     },
     "execution_count": 22,
     "metadata": {},
     "output_type": "execute_result"
    }
   ],
   "source": [
    "# 결과치가 다음과 같을 경우 어떻게 함축 표현식을 만들어야 하는지?\n",
    "# [ [10, 11, 12], [13, 14, 15], [16, 17, 18] ]\n",
    "\n",
    "# 제시된 데이터 : [10, 11, 12] 과 [0, 1, 2]\n",
    "[[v1*3 + v2 for v2 in [10, 11, 12]] for v1 in [0, 1, 2]]\n"
   ]
  },
  {
   "cell_type": "code",
   "execution_count": 24,
   "metadata": {},
   "outputs": [
    {
     "data": {
      "text/plain": [
       "[[10, 11, 12], [13, 14, 15], [16, 17, 18]]"
      ]
     },
     "execution_count": 24,
     "metadata": {},
     "output_type": "execute_result"
    }
   ],
   "source": [
    "lst = []\n",
    "for v1 in [0, 1, 2]:\n",
    "    lst2 = []\n",
    "    for v2 in [10, 11, 12]:\n",
    "        lst2.append(v1*3+v2)\n",
    "    lst.append(lst2)\n",
    "lst\n"
   ]
  },
  {
   "cell_type": "markdown",
   "metadata": {},
   "source": [
    "**미션 - comprehension 문법으로 변경하기**"
   ]
  },
  {
   "cell_type": "code",
   "execution_count": 25,
   "metadata": {},
   "outputs": [
    {
     "name": "stdout",
     "output_type": "stream",
     "text": [
      "[121, 242, 252, 252, 272, 464, 272, 323, 252, 414, 323, 494, 252, 525, 242, 484, 616, 414, 575, 696, 525, 575, 494, 676, 616, 464, 696]\n"
     ]
    }
   ],
   "source": [
    "eve = []\n",
    "for i in range(10, 30):\n",
    "    for j in range(10, 30):\n",
    "        a = i * j\n",
    "        if str(a) == str(a)[::-1]: #?\n",
    "            eve.append(a)\n",
    "print(eve)"
   ]
  },
  {
   "cell_type": "code",
   "execution_count": 26,
   "metadata": {},
   "outputs": [
    {
     "name": "stdout",
     "output_type": "stream",
     "text": [
      "[121, 242, 252, 252, 272, 464, 272, 323, 252, 414, 323, 494, 252, 525, 242, 484, 616, 414, 575, 696, 525, 575, 494, 676, 616, 464, 696]\n"
     ]
    }
   ],
   "source": [
    "# a 변수 선언 없이 연산식 자체가 str() 함수 내부의 인수로 적용\n",
    "for j in range(10, 30) if str(i * j) == str(i * j)[::-1]]\n",
    "print(eve)"
   ]
  },
  {
   "cell_type": "markdown",
   "metadata": {},
   "source": [
    "**미션 : 제시된 코드와 동일한 로직의 comprehension 구성하기**"
   ]
  },
  {
   "cell_type": "code",
   "execution_count": 28,
   "metadata": {},
   "outputs": [
    {
     "name": "stdout",
     "output_type": "stream",
     "text": [
      "[1, 3, 5]\n"
     ]
    }
   ],
   "source": [
    "\n",
    "reference = [1, 2, 3, 4, 5, 6]\n",
    "\n",
    "output = []\n",
    "\n",
    "for number in reference:\n",
    "    if number % 2 == 0:\n",
    "        prev_num = number-1  # calculate previous number\n",
    "        output.append(prev_num)  # append to the list\n",
    "\n",
    "print(output)\n"
   ]
  },
  {
   "cell_type": "code",
   "execution_count": 29,
   "metadata": {},
   "outputs": [
    {
     "data": {
      "text/plain": [
       "[1, 3, 5]"
      ]
     },
     "execution_count": 29,
     "metadata": {},
     "output_type": "execute_result"
    }
   ],
   "source": [
    "[number-1 for number in reference if number % 2 == 0]"
   ]
  },
  {
   "cell_type": "markdown",
   "metadata": {},
   "source": [
    "**미션 : 제시된 반복문등을 분석 하고 comprehension 문법 적용해서 결과에 맞게 구성하기**"
   ]
  },
  {
   "cell_type": "code",
   "execution_count": 30,
   "metadata": {},
   "outputs": [
    {
     "name": "stdout",
     "output_type": "stream",
     "text": [
      "encore\n",
      "playdata\n",
      "OpenPose\n",
      "4차 산업 인재상\n",
      "----- split() -----\n",
      "['encore']\n",
      "['playdata']\n",
      "['OpenPose']\n",
      "['4차', '산업', '인재상']\n",
      "----- list에 저장 -----\n",
      "[['encore'], ['playdata'], ['OpenPose'], ['4차', '산업', '인재상']]\n"
     ]
    }
   ],
   "source": [
    "list_string = ['encore', 'playdata', 'OpenPose', '4차 산업 인재상']\n",
    "\n",
    "for word in list_string:\n",
    "    print(word)\n",
    "    \n",
    "print(\"----- split() -----\")\n",
    "    \n",
    "for word in list_string:\n",
    "    print(word.split())\n",
    "    \n",
    "    \n",
    "print('----- list에 저장 -----')\n",
    "list = []\n",
    "for word in list_string:\n",
    "    list.append(word.split())\n",
    "    \n",
    "print(list)"
   ]
  },
  {
   "cell_type": "code",
   "execution_count": 31,
   "metadata": {},
   "outputs": [
    {
     "data": {
      "text/plain": [
       "[['encore'], ['playdata'], ['OpenPose'], ['4차', '산업', '인재상']]"
      ]
     },
     "execution_count": 31,
     "metadata": {},
     "output_type": "execute_result"
    }
   ],
   "source": [
    "# split() 호출로 인한 list 내부의 list 구성하는 형식\n",
    "[word.split() for word in list_string]"
   ]
  },
  {
   "cell_type": "markdown",
   "metadata": {},
   "source": [
    "**미션 : 제시된 데이터를 활용하여 철자 길이가 4이상인 경우의 데이터에 한해서만 문자열의 첫 글자만 대문자로 및 출력**"
   ]
  },
  {
   "cell_type": "code",
   "execution_count": 35,
   "metadata": {},
   "outputs": [
    {
     "name": "stdout",
     "output_type": "stream",
     "text": [
      "['Encore', 'Playdata', 'Sw응용&분석']\n"
     ]
    }
   ],
   "source": [
    "words = ['encore', 'playdata', 'sw응용&분석', 'hi']\n",
    "\n",
    "upper_case = [word.capitalize() for word in words if len(word) > 3]\n",
    "print(upper_case)\n"
   ]
  },
  {
   "cell_type": "markdown",
   "metadata": {},
   "source": [
    "slicing 기술 적용해서 sw응용&분석 유지하는 코드"
   ]
  },
  {
   "cell_type": "code",
   "execution_count": 37,
   "metadata": {},
   "outputs": [
    {
     "name": "stdout",
     "output_type": "stream",
     "text": [
      "['Encore', 'Playdata', 'Sw응용&분석']\n"
     ]
    }
   ],
   "source": [
    "words = ['encore', 'playdata', 'sw응용&분석', 'hi']\n",
    "\n",
    "upper_case = [str.upper(word[0])+word[1:] for word in words if len(word) > 3]\n",
    "print(upper_case)"
   ]
  },
  {
   "cell_type": "code",
   "execution_count": 42,
   "metadata": {},
   "outputs": [
    {
     "name": "stdout",
     "output_type": "stream",
     "text": [
      "[(3, 4, 5), (4, 3, 5), (5, 12, 13), (6, 8, 10), (7, 24, 25), (8, 6, 10), (8, 15, 17), (9, 12, 15), (9, 40, 41), (10, 24, 26), (11, 60, 61), (12, 5, 13), (12, 9, 15), (12, 16, 20), (12, 35, 37), (13, 84, 85), (14, 48, 50), (15, 8, 17), (15, 20, 25), (15, 36, 39), (16, 12, 20), (16, 30, 34), (16, 63, 65), (18, 24, 30), (18, 80, 82), (20, 15, 25), (20, 21, 29), (20, 48, 52), (21, 20, 29), (21, 28, 35), (21, 72, 75), (24, 7, 25), (24, 10, 26), (24, 18, 30), (24, 32, 40), (24, 45, 51), (24, 70, 74), (25, 60, 65), (27, 36, 45), (28, 21, 35), (28, 45, 53), (28, 96, 100), (30, 16, 34), (30, 40, 50), (30, 72, 78), (32, 24, 40), (32, 60, 68), (33, 44, 55), (33, 56, 65), (35, 12, 37), (35, 84, 91), (36, 15, 39), (36, 27, 45), (36, 48, 60), (36, 77, 85), (39, 52, 65), (39, 80, 89), (40, 9, 41), (40, 30, 50), (40, 42, 58), (40, 75, 85), (42, 40, 58), (42, 56, 70), (44, 33, 55), (45, 24, 51), (45, 28, 53), (45, 60, 75), (48, 14, 50), (48, 20, 52), (48, 36, 60), (48, 55, 73), (48, 64, 80), (51, 68, 85), (52, 39, 65), (54, 72, 90), (55, 48, 73), (56, 33, 65), (56, 42, 70), (57, 76, 95), (60, 11, 61), (60, 25, 65), (60, 32, 68), (60, 45, 75), (60, 63, 87), (60, 80, 100), (63, 16, 65), (63, 60, 87), (64, 48, 80), (65, 72, 97), (68, 51, 85), (70, 24, 74), (72, 21, 75), (72, 30, 78), (72, 54, 90), (72, 65, 97), (75, 40, 85), (76, 57, 95), (77, 36, 85), (80, 18, 82), (80, 39, 89), (80, 60, 100), (84, 13, 85), (84, 35, 91), (96, 28, 100)]\n"
     ]
    }
   ],
   "source": [
    "v = [(a, b, c) for a in range(1, 101, 1) for b in range(1, 101, 1) for c in range(1, 101, 1) if( (a*a+b*b)==c*c )]\n",
    "print(v)"
   ]
  }
 ],
 "metadata": {
  "kernelspec": {
   "display_name": "Python 3",
   "language": "python",
   "name": "python3"
  },
  "language_info": {
   "codemirror_mode": {
    "name": "ipython",
    "version": 3
   },
   "file_extension": ".py",
   "mimetype": "text/x-python",
   "name": "python",
   "nbconvert_exporter": "python",
   "pygments_lexer": "ipython3",
   "version": "3.8.5"
  }
 },
 "nbformat": 4,
 "nbformat_minor": 2
}
