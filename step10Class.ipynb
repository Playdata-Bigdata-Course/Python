{
 "cells": [
  {
   "cell_type": "markdown",
   "metadata": {},
   "source": [
    "<!--NAVIGATION-->\n",
    "\n",
    "[[step09. Assert문 학습 page로 이동](step09_2goodCode.ipynb) ] | \n",
    "[[step11.Object Oriented Programming 학습 page로 이동](step11OOP.ipynb) ]"
   ]
  },
  {
   "cell_type": "markdown",
   "metadata": {},
   "source": [
    "# 사용자 정의 파이썬 클래스 개발 방법 학습\n",
    "1. 주요 키워드 및 기호 : self, __\n",
    "- 자바와 비교시 : 데이터 표현 전용 구조의 클래스(DTO/VO/Bean)\n",
    "    - 자바의 문법 : 멤버변수, 기본생성자, 생성자, getXxx()/setXxx()/toString()..<br>\n",
    "    - 자바의 상위 클래스 : Object<br><br>\n",
    "    \n",
    "    - python 문법 : 멤버변수, __init__(), 사용자 정의 함수명,__str__()\n",
    "    - python 상위 클래스 : Object<br><br>\n",
    "    "
   ]
  },
  {
   "cell_type": "markdown",
   "metadata": {},
   "source": [
    "### 1. 파이썬 클래스 \n",
    "\n",
    "1. 사용자 정의 클래스 개발 방법\n",
    "- 멤버 변수의 종류<br>\n",
    "** 클래스 변수 : 객체를 통들어서 하나만 생성되고 모든 객체가 공유하는 변수<br>\n",
    "** 인스턴스 변수  : 생성되는 객체 즉 인스턴스별로 별도로 생성되는 변수<br>\n",
    "** 주요 키워드 : self가 적용된 변수는 모두 다 instance 변수 \n",
    "\n",
    "- 접근자 : 정보 은닉 및 유효성 검증을 위해 private으로 정의하는 방법 - 변수명 앞단에 __ 선언\n",
    "\n",
    "- 특수 메소드\n",
    "\n",
    "\n",
    "> 자바와 비교시 : 멤버 변수 관점\n",
    "1. static 변수 - static 키워드로 선언 : 객체 생성없이 사용 가능\n",
    "- instance 변수 - non-static 으로 선언 : 객체 생성 필수(instance)\n",
    "\n",
    "> 자바와 비교시 : 접근자 관점(access modifier)\n",
    "1. private/default/protected/public 4가지\n",
    "\n",
    "\n",
    "> 용어\n",
    "1. 메소드 : 클래스 내부에 구현되는 기능<br>\n",
    "2. 함수 : 클래스와 독립적으로 구현되는 기능<br>"
   ]
  },
  {
   "cell_type": "markdown",
   "metadata": {},
   "source": [
    "**파이썬 클래스 개발 문법**\n",
    "\n",
    "1. class 키워드\n",
    "- 생성자 : __init__(self)\n",
    "- 클래스 내에 구현하는 함수의 첫번째 parameter : self\n",
    "- 멤버 변수 선언 문법 : init() 내부에 self.변수명"
   ]
  },
  {
   "cell_type": "markdown",
   "metadata": {},
   "source": [
    "### 2. 인스턴스 및 클래스 변수\n",
    ">  독립된 함수 개발 및 호출, 클래스 내부에 구현하는 내장 함수"
   ]
  },
  {
   "cell_type": "code",
   "execution_count": 1,
   "metadata": {},
   "outputs": [],
   "source": [
    "# 독립적인 함수\n",
    "def getIntValue():\n",
    "    print(\"클래스 외부의 getIntValue() 함수\")\n",
    "    return 20"
   ]
  },
  {
   "cell_type": "code",
   "execution_count": 2,
   "metadata": {},
   "outputs": [
    {
     "name": "stdout",
     "output_type": "stream",
     "text": [
      "클래스 외부의 getIntValue() 함수\n"
     ]
    },
    {
     "data": {
      "text/plain": [
       "20"
      ]
     },
     "execution_count": 2,
     "metadata": {},
     "output_type": "execute_result"
    }
   ],
   "source": [
    "data = getIntValue()\n",
    "data"
   ]
  },
  {
   "cell_type": "code",
   "execution_count": 3,
   "metadata": {},
   "outputs": [],
   "source": [
    "# 사용자 정의 클래스 + 메소드, 변수 -> class 변수(필요성)\n",
    "class UserClass:\n",
    "    # 생성자\n",
    "    def __init__(self, data):\n",
    "        #instance 변수 선언\n",
    "        self.instanceVar = data     \n",
    "        print(\"생성자\")\n",
    "    \n",
    "    def getInstanceVar(self):\n",
    "        return self.instanceVar\n",
    "        \n",
    "def getInstanceVar2():\n",
    "    return \"클래스 외부에 구현된 별도의 함수\"\n",
    "    "
   ]
  },
  {
   "cell_type": "code",
   "execution_count": 4,
   "metadata": {},
   "outputs": [
    {
     "name": "stdout",
     "output_type": "stream",
     "text": [
      "생성자\n"
     ]
    },
    {
     "data": {
      "text/plain": [
       "'생성자로 유입되는 데이터들'"
      ]
     },
     "execution_count": 4,
     "metadata": {},
     "output_type": "execute_result"
    }
   ],
   "source": [
    "d = UserClass('생성자로 유입되는 데이터들')\n",
    "data1 = d.getInstanceVar()\n",
    "data1"
   ]
  },
  {
   "cell_type": "code",
   "execution_count": 5,
   "metadata": {},
   "outputs": [
    {
     "data": {
      "text/plain": [
       "'클래스 외부에 구현된 별도의 함수'"
      ]
     },
     "execution_count": 5,
     "metadata": {},
     "output_type": "execute_result"
    }
   ],
   "source": [
    "data2 = getInstanceVar2()\n",
    "data2"
   ]
  },
  {
   "cell_type": "code",
   "execution_count": 6,
   "metadata": {},
   "outputs": [
    {
     "name": "stdout",
     "output_type": "stream",
     "text": [
      "생성자\n",
      "변수\n"
     ]
    }
   ],
   "source": [
    "i1 = UserClass('변수')\n",
    "data = i1.getInstanceVar()\n",
    "print(data)"
   ]
  },
  {
   "cell_type": "markdown",
   "metadata": {},
   "source": [
    "**미션** \n",
    "\n",
    "1. Person 클래스 개발해 보기 \n",
    "- 멤버 변수 : name/age \n",
    "- get/setXxx()\n",
    "- test 하는 코드도 완성해 보기"
   ]
  },
  {
   "cell_type": "code",
   "execution_count": 6,
   "metadata": {},
   "outputs": [],
   "source": [
    "class Person:\n",
    "    def __init__(self, name):\n",
    "        self.name = name\n",
    "    \n",
    "    def setName(self, name):\n",
    "        self.name = name\n",
    "        \n",
    "    def getName(self):\n",
    "        return self.name \n"
   ]
  },
  {
   "cell_type": "code",
   "execution_count": 8,
   "metadata": {},
   "outputs": [
    {
     "name": "stdout",
     "output_type": "stream",
     "text": [
      "재석\n"
     ]
    }
   ],
   "source": [
    "p = Person('재석')\n",
    "print(p.getName())"
   ]
  },
  {
   "cell_type": "code",
   "execution_count": 10,
   "metadata": {},
   "outputs": [
    {
     "ename": "TypeError",
     "evalue": "__init__() missing 1 required positional argument: 'name'",
     "output_type": "error",
     "traceback": [
      "\u001b[1;31m---------------------------------------------------------------------------\u001b[0m",
      "\u001b[1;31mTypeError\u001b[0m                                 Traceback (most recent call last)",
      "\u001b[1;32m<ipython-input-10-a997150fc3e5>\u001b[0m in \u001b[0;36m<module>\u001b[1;34m\u001b[0m\n\u001b[1;32m----> 1\u001b[1;33m \u001b[0mp\u001b[0m \u001b[1;33m=\u001b[0m \u001b[0mPerson\u001b[0m\u001b[1;33m(\u001b[0m\u001b[1;33m)\u001b[0m\u001b[1;33m\u001b[0m\u001b[1;33m\u001b[0m\u001b[0m\n\u001b[0m\u001b[0;32m      2\u001b[0m \u001b[0mprint\u001b[0m\u001b[1;33m(\u001b[0m\u001b[0mp\u001b[0m\u001b[1;33m.\u001b[0m\u001b[0mgetName\u001b[0m\u001b[1;33m(\u001b[0m\u001b[1;33m)\u001b[0m\u001b[1;33m)\u001b[0m\u001b[1;33m\u001b[0m\u001b[1;33m\u001b[0m\u001b[0m\n",
      "\u001b[1;31mTypeError\u001b[0m: __init__() missing 1 required positional argument: 'name'"
     ]
    }
   ],
   "source": [
    "p = Person()\n",
    "print(p.getName())"
   ]
  },
  {
   "cell_type": "code",
   "execution_count": 12,
   "metadata": {},
   "outputs": [],
   "source": [
    "class Person:\n",
    "    def __init__(self, name = '종원'):\n",
    "        self.name = name\n",
    "    \n",
    "    def setName(self, name):\n",
    "        self.name = name\n",
    "        \n",
    "    def getName(self):\n",
    "        return self.name "
   ]
  },
  {
   "cell_type": "code",
   "execution_count": 13,
   "metadata": {},
   "outputs": [
    {
     "name": "stdout",
     "output_type": "stream",
     "text": [
      "종원\n"
     ]
    }
   ],
   "source": [
    "p = Person()\n",
    "print(p.getName())"
   ]
  },
  {
   "cell_type": "markdown",
   "metadata": {},
   "source": [
    "**미션-미완성 문법 완성하기**"
   ]
  },
  {
   "cell_type": "code",
   "execution_count": 21,
   "metadata": {},
   "outputs": [
    {
     "name": "stdout",
     "output_type": "stream",
     "text": [
      "난 생성자\n",
      "instanceVar 변수 값 :  None\n",
      "클래스 내부의 getIntValue() 함수\n",
      "intValue 변수 값 :  인스턴스 변수\n",
      "클래스 내부의 getIntValue() 함수\n",
      "intValue 변수 값 :  인스턴스 변수\n"
     ]
    }
   ],
   "source": [
    "class UserClass:    \n",
    "    def __init__(self, int_value=10):\n",
    "        self.instance_var = ''\n",
    "        self.int_value = int_value;\n",
    "        print('난 생성자')\n",
    "        \n",
    "    def set_var(self):\n",
    "        self.instance_var = '인스턴스 변수'\n",
    "        \n",
    "    def get_var(self):\n",
    "        self.instance_var\n",
    "    \n",
    "    def get_int_value(self):\n",
    "        print(\"클래스 내부의 getIntValue() 함수\")\n",
    "        return self.instance_var\n",
    "\n",
    "    def method_return_fun(self):\n",
    "        return self.get_int_value()\n",
    " \n",
    "\n",
    "instance = UserClass()\n",
    "instance.set_var()\n",
    "\n",
    "print(\"instanceVar 변수 값 : \", instance.get_var())\n",
    "print(\"intValue 변수 값 : \", instance.get_int_value())    \n",
    "print(\"intValue 변수 값 : \", instance.method_return_fun())    "
   ]
  },
  {
   "cell_type": "markdown",
   "metadata": {},
   "source": [
    "### 3. class 변수\n",
    "\n",
    "1. class 변수란? class 내에 선언되는 변수, 생성되는 모든 객체가 공유\n",
    "- 문제 제시후 직접 개발 해 보고 확인을 위한 test 코드도 구성해 보기"
   ]
  },
  {
   "cell_type": "code",
   "execution_count": 27,
   "metadata": {},
   "outputs": [],
   "source": [
    "'''\n",
    "    자바 기준 : 객체 생성없이 실제 실행시에 사용 가능한 변수\n",
    "                static 변수(class 변수)\n",
    "                호출 문법 : class명.변수명\n",
    "    python 기준 : class 변수는 class명.변수명\n",
    "'''\n",
    "class People:\n",
    "    no1 = 0;\n",
    "    def __init__(self, no2):\n",
    "        People.no1 = People.no1 + 1\n",
    "        self.no2 = no2\n",
    "\n"
   ]
  },
  {
   "cell_type": "code",
   "execution_count": 29,
   "metadata": {},
   "outputs": [
    {
     "name": "stdout",
     "output_type": "stream",
     "text": [
      "3 1\n",
      "4 2\n"
     ]
    }
   ],
   "source": [
    "p1 = People(1)\n",
    "print(p1.no1, p1.no2)\n",
    "\n",
    "p2 = People(2)\n",
    "print(p2.no1, p2.no2)"
   ]
  },
  {
   "cell_type": "markdown",
   "metadata": {},
   "source": [
    "### 4. private 변수\n",
    "1. 문법 : 언더바 두개로 선언\n",
    "2. 권장사항 : 변수가 private인 경우 set/getXxx메소드 추가 구현 권장<br>\n",
    "단, setXxx() 는 유효성 검증 코드 포함\n",
    "              "
   ]
  },
  {
   "cell_type": "code",
   "execution_count": 30,
   "metadata": {},
   "outputs": [],
   "source": [
    "class People2:\n",
    "    def __init__(self, name=\"이이\", age=0):\n",
    "        self.name = name\n",
    "        self.__age = age    #java의 private 과 흡사한 선언, get/set 메소드로 access"
   ]
  },
  {
   "cell_type": "code",
   "execution_count": 31,
   "metadata": {},
   "outputs": [
    {
     "name": "stdout",
     "output_type": "stream",
     "text": [
      "이이\n"
     ]
    }
   ],
   "source": [
    "p6 = People2()\n",
    "print(p6.name)"
   ]
  },
  {
   "cell_type": "code",
   "execution_count": 32,
   "metadata": {},
   "outputs": [
    {
     "ename": "AttributeError",
     "evalue": "'People2' object has no attribute 'age'",
     "output_type": "error",
     "traceback": [
      "\u001b[1;31m---------------------------------------------------------------------------\u001b[0m",
      "\u001b[1;31mAttributeError\u001b[0m                            Traceback (most recent call last)",
      "\u001b[1;32m<ipython-input-32-560382644f99>\u001b[0m in \u001b[0;36m<module>\u001b[1;34m\u001b[0m\n\u001b[1;32m----> 1\u001b[1;33m \u001b[0mprint\u001b[0m\u001b[1;33m(\u001b[0m\u001b[0mp6\u001b[0m\u001b[1;33m.\u001b[0m\u001b[0mage\u001b[0m\u001b[1;33m)\u001b[0m\u001b[1;33m\u001b[0m\u001b[1;33m\u001b[0m\u001b[0m\n\u001b[0m",
      "\u001b[1;31mAttributeError\u001b[0m: 'People2' object has no attribute 'age'"
     ]
    }
   ],
   "source": [
    "print(p6.age) # p6.age 불가"
   ]
  },
  {
   "cell_type": "markdown",
   "metadata": {},
   "source": [
    "### 5. 생성자와 소멸자\n",
    "\n",
    "> 1. init() : 생성자(constructor)는 객체가 생성될 때 객체를 기본값으로 초기화<br>\n",
    "> 파이썬에서는 생성자의 이름으로 __init__() 사용<br>\n",
    "> 객체 생성시 호출(class 이름으로 호출)\n",
    "\n",
    "> 2. del() : 객체가 삭제시 자동 호출되는 함수<br>\n",
    "> del 참조변수명  시에 자동 호출\n"
   ]
  },
  {
   "cell_type": "code",
   "execution_count": 38,
   "metadata": {},
   "outputs": [
    {
     "name": "stdout",
     "output_type": "stream",
     "text": [
      "생성자\n",
      "소멸자\n"
     ]
    }
   ],
   "source": [
    "class People:\n",
    "    def __init__(self):\n",
    "        print('생성자')\n",
    "        \n",
    "    def __del__(self):\n",
    "        print('소멸자')\n",
    "p = People()\n",
    "# 객체를 메모리에서 해제 (삭제, 소멸)\n",
    "del p"
   ]
  },
  {
   "cell_type": "code",
   "execution_count": 39,
   "metadata": {},
   "outputs": [
    {
     "name": "stdout",
     "output_type": "stream",
     "text": [
      "생성자\n",
      "생성자\n",
      "소멸자\n",
      "소멸자\n",
      "생성자\n",
      "소멸자\n"
     ]
    }
   ],
   "source": [
    "class People:\n",
    "    def __init__(self):\n",
    "        print('생성자')\n",
    "        \n",
    "    def __del__(self):\n",
    "        print('소멸자')\n",
    "p = People()   #__int__() 호출 따라서 객체가 메모리에 잔존\n",
    "\n",
    "p = People()   # 객체 생성, 이미 생성했떤 객체가 메모리에 존재하는 상태\n",
    "del p          # 소멸자 실행, 객체가 두개였기 때문에 두번 실행되는 원리\n",
    "\n",
    "p = People()  # 객체 새로 생성\n",
    "del p         # 객체 삭제"
   ]
  },
  {
   "cell_type": "code",
   "execution_count": null,
   "metadata": {},
   "outputs": [],
   "source": []
  },
  {
   "cell_type": "markdown",
   "metadata": {},
   "source": [
    "### 6. 특수 메소드\n",
    ">1. \\__init__ : 생성자<br>\n",
    ">2. \\__str__ : 자바의 toString과 흡사, print() 자동 호출<br>\n",
    ">3. \\__len__ : 길이 반환로직으로 재정의 권장\n",
    ">4. \\__del__ : 소멸자로 객체가 메모리에서 삭제시 자동 호출"
   ]
  },
  {
   "cell_type": "code",
   "execution_count": 49,
   "metadata": {},
   "outputs": [
    {
     "name": "stdout",
     "output_type": "stream",
     "text": [
      "제목Data Structure. 저자:bookMan, 페이지:200 \n",
      "200\n"
     ]
    }
   ],
   "source": [
    "class Book:\n",
    "    # 생성자\n",
    "    def __init__(self, title, author, pages):\n",
    "        self.title = title\n",
    "        self.author = author\n",
    "        self.pages = pages\n",
    "    \n",
    "    def __str__(self):\n",
    "        return '제목%s. 저자:%s, 페이지:%s ' % (self.title, self.author, self.pages)\n",
    "    \n",
    "    def __len__(self):\n",
    "        return self.pages\n",
    "\n",
    "book = Book(\"Data Structure\", \"bookMan\", 200)\n",
    "print(book) #제목:Data Structure , 저자:bookMan, 페이지:200 \n",
    "print(len(book))"
   ]
  },
  {
   "cell_type": "markdown",
   "metadata": {},
   "source": [
    "### 7. 메소드 재정의 \n",
    ">객체의 연산시에 사용되는 사칙 연산 관련 특수 메소드 재정의 하기"
   ]
  },
  {
   "cell_type": "code",
   "execution_count": 50,
   "metadata": {},
   "outputs": [],
   "source": [
    "class SpecialMethod2:\n",
    "    def __init__(self, x, y):\n",
    "        self.x = x\n",
    "        self.y = y\n",
    "    \n",
    "    # 객체들이 + 연산시 자동 호출\n",
    "    def __add__(self, you):\n",
    "        print(\"__add__ 호출 확인\")\n",
    "        return SpecialMethod2(self.x + you.x, self.y + you.y)\n",
    "    \n",
    "    # 두개의 객체 멤버 변수들 비교 True or False 반환\n",
    "    # 언제 호출되는지? == \n",
    "    def __eq__(self, you):\n",
    "        print('__eq__ 호출 확인')\n",
    "        return self.x == you.x and self.y == you.y\n",
    "    \n",
    "    # (x, y) 값 구조로 반환\n",
    "    def __str__(self):\n",
    "        print(\"__str__ 호출 확인\")\n",
    "        return '(%d, %d)' % (self.x, self.y)"
   ]
  },
  {
   "cell_type": "markdown",
   "metadata": {},
   "source": [
    "SpecialMethod2 가 보유한 add 라는 메소드 호출해서 사용해 보기\n",
    "\n",
    "단, 두개의 SpecialMethod2 객채들의 x값, y값들끼리 더하는 연산 결과로 변환해주기"
   ]
  },
  {
   "cell_type": "code",
   "execution_count": 53,
   "metadata": {},
   "outputs": [
    {
     "name": "stdout",
     "output_type": "stream",
     "text": [
      "__add__ 호출 확인\n"
     ]
    }
   ],
   "source": [
    "s1 = SpecialMethod2(10, 20)\n",
    "s2 = SpecialMethod2(30, 40)\n",
    "v = s21 + s22 # + 연산시 호출되는 특수 메소드 재정의 가능"
   ]
  },
  {
   "cell_type": "code",
   "execution_count": 8,
   "metadata": {},
   "outputs": [
    {
     "name": "stdout",
     "output_type": "stream",
     "text": [
      "__str__ 호출 확인\n",
      "(40, 60)\n"
     ]
    }
   ],
   "source": [
    "print(v)  # (40, 60) -> print(str(v))"
   ]
  },
  {
   "cell_type": "code",
   "execution_count": 9,
   "metadata": {},
   "outputs": [
    {
     "name": "stdout",
     "output_type": "stream",
     "text": [
      "__eq__ 호출 확인\n",
      "False\n",
      "__eq__ 호출 확인\n",
      "True\n"
     ]
    }
   ],
   "source": [
    "print(s21 == s22)\n",
    "s23 = SpecialMethod2(30, 40)\n",
    "print(s22 == s23)"
   ]
  },
  {
   "cell_type": "code",
   "execution_count": null,
   "metadata": {},
   "outputs": [],
   "source": []
  }
 ],
 "metadata": {
  "kernelspec": {
   "display_name": "Python 3",
   "language": "python",
   "name": "python3"
  },
  "language_info": {
   "codemirror_mode": {
    "name": "ipython",
    "version": 3
   },
   "file_extension": ".py",
   "mimetype": "text/x-python",
   "name": "python",
   "nbconvert_exporter": "python",
   "pygments_lexer": "ipython3",
   "version": "3.8.5"
  }
 },
 "nbformat": 4,
 "nbformat_minor": 2
}
